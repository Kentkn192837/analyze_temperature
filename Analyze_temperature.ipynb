{
 "cells": [
  {
   "cell_type": "code",
   "execution_count": 1,
   "id": "0eda7789-9d5d-4ab5-acbd-dcbc447d396c",
   "metadata": {},
   "outputs": [],
   "source": [
    "from matplotlib import pyplot as plt\n",
    "import pandas as pd"
   ]
  },
  {
   "cell_type": "code",
   "execution_count": 2,
   "id": "d083ef3a-795b-4536-92d4-2298f9c293fd",
   "metadata": {},
   "outputs": [],
   "source": [
    "df = pd.read_csv('morioka_temperature.csv')"
   ]
  },
  {
   "cell_type": "code",
   "execution_count": 3,
   "id": "7423ac52-cbb3-4ef6-91b0-d450fe796baf",
   "metadata": {},
   "outputs": [
    {
     "name": "stdout",
     "output_type": "stream",
     "text": [
      "     Year  Date  Temparature\n",
      "0    2018     1         11.7\n",
      "1    2018     2         16.7\n",
      "2    2018     3         19.3\n",
      "3    2018     4         12.3\n",
      "4    2018     5          9.1\n",
      "..    ...   ...          ...\n",
      "115  2021    26         12.2\n",
      "116  2021    27         17.6\n",
      "117  2021    28         18.6\n",
      "118  2021    29         15.0\n",
      "119  2021    30         13.2\n",
      "\n",
      "[120 rows x 3 columns]\n"
     ]
    }
   ],
   "source": [
    "print(df)"
   ]
  },
  {
   "cell_type": "code",
   "execution_count": 4,
   "id": "4c492f98-e470-40a7-88fd-a6a3a28ae9b2",
   "metadata": {},
   "outputs": [
    {
     "data": {
      "text/plain": [
       "Index(['Year', 'Date', 'Temparature'], dtype='object')"
      ]
     },
     "execution_count": 4,
     "metadata": {},
     "output_type": "execute_result"
    }
   ],
   "source": [
    "df.columns"
   ]
  },
  {
   "cell_type": "code",
   "execution_count": 5,
   "id": "2eb38950-ade9-4e9a-8987-c6638c0d2d81",
   "metadata": {},
   "outputs": [
    {
     "data": {
      "text/plain": [
       "'Date'"
      ]
     },
     "execution_count": 5,
     "metadata": {},
     "output_type": "execute_result"
    }
   ],
   "source": [
    "df.columns[1]"
   ]
  },
  {
   "cell_type": "code",
   "execution_count": 6,
   "id": "d95a1ad5-f9fa-4a1d-9939-2e0db180aa5c",
   "metadata": {},
   "outputs": [
    {
     "name": "stdout",
     "output_type": "stream",
     "text": [
      "     Temparature\n",
      "0           11.7\n",
      "1           16.7\n",
      "2           19.3\n",
      "3           12.3\n",
      "4            9.1\n",
      "..           ...\n",
      "115         12.2\n",
      "116         17.6\n",
      "117         18.6\n",
      "118         15.0\n",
      "119         13.2\n",
      "\n",
      "[120 rows x 1 columns]\n"
     ]
    }
   ],
   "source": [
    "df_day = pd.read_csv('morioka_temperature.csv', header=0, usecols=[2])\n",
    "print(df_day)"
   ]
  },
  {
   "cell_type": "code",
   "execution_count": 7,
   "id": "9b4fa1a4-4ce8-4dd4-8ec8-365231623200",
   "metadata": {},
   "outputs": [
    {
     "data": {
      "text/html": [
       "<div>\n",
       "<style scoped>\n",
       "    .dataframe tbody tr th:only-of-type {\n",
       "        vertical-align: middle;\n",
       "    }\n",
       "\n",
       "    .dataframe tbody tr th {\n",
       "        vertical-align: top;\n",
       "    }\n",
       "\n",
       "    .dataframe thead th {\n",
       "        text-align: right;\n",
       "    }\n",
       "</style>\n",
       "<table border=\"1\" class=\"dataframe\">\n",
       "  <thead>\n",
       "    <tr style=\"text-align: right;\">\n",
       "      <th></th>\n",
       "      <th>Temparature</th>\n",
       "    </tr>\n",
       "  </thead>\n",
       "  <tbody>\n",
       "    <tr>\n",
       "      <th>0</th>\n",
       "      <td>11.7</td>\n",
       "    </tr>\n",
       "  </tbody>\n",
       "</table>\n",
       "</div>"
      ],
      "text/plain": [
       "   Temparature\n",
       "0         11.7"
      ]
     },
     "execution_count": 7,
     "metadata": {},
     "output_type": "execute_result"
    }
   ],
   "source": [
    "df_day[:1]"
   ]
  },
  {
   "cell_type": "code",
   "execution_count": 8,
   "id": "624945d0-5b8c-4d2a-b57b-0e6ffa83799d",
   "metadata": {},
   "outputs": [
    {
     "data": {
      "text/html": [
       "<div>\n",
       "<style scoped>\n",
       "    .dataframe tbody tr th:only-of-type {\n",
       "        vertical-align: middle;\n",
       "    }\n",
       "\n",
       "    .dataframe tbody tr th {\n",
       "        vertical-align: top;\n",
       "    }\n",
       "\n",
       "    .dataframe thead th {\n",
       "        text-align: right;\n",
       "    }\n",
       "</style>\n",
       "<table border=\"1\" class=\"dataframe\">\n",
       "  <thead>\n",
       "    <tr style=\"text-align: right;\">\n",
       "      <th></th>\n",
       "      <th>Temparature</th>\n",
       "    </tr>\n",
       "  </thead>\n",
       "  <tbody>\n",
       "    <tr>\n",
       "      <th>0</th>\n",
       "      <td>11.7</td>\n",
       "    </tr>\n",
       "    <tr>\n",
       "      <th>1</th>\n",
       "      <td>16.7</td>\n",
       "    </tr>\n",
       "    <tr>\n",
       "      <th>2</th>\n",
       "      <td>19.3</td>\n",
       "    </tr>\n",
       "  </tbody>\n",
       "</table>\n",
       "</div>"
      ],
      "text/plain": [
       "   Temparature\n",
       "0         11.7\n",
       "1         16.7\n",
       "2         19.3"
      ]
     },
     "execution_count": 8,
     "metadata": {},
     "output_type": "execute_result"
    }
   ],
   "source": [
    "df_day[:3]"
   ]
  },
  {
   "cell_type": "code",
   "execution_count": 9,
   "id": "582872ab-c1bd-499d-b523-d32941be8d05",
   "metadata": {},
   "outputs": [
    {
     "data": {
      "text/plain": [
       "pandas.core.frame.DataFrame"
      ]
     },
     "execution_count": 9,
     "metadata": {},
     "output_type": "execute_result"
    }
   ],
   "source": [
    "type(df_day)"
   ]
  },
  {
   "cell_type": "code",
   "execution_count": 10,
   "id": "d05befbe-a354-409d-a785-8db2d62e2ae3",
   "metadata": {},
   "outputs": [
    {
     "name": "stdout",
     "output_type": "stream",
     "text": [
      "   Temparature\n",
      "0         11.7\n",
      "1         16.7\n",
      "2         19.3\n"
     ]
    }
   ],
   "source": [
    "print(df_day[:3])"
   ]
  },
  {
   "cell_type": "code",
   "execution_count": 11,
   "id": "1fe20497-f987-42fa-baf6-9bf9097d5088",
   "metadata": {},
   "outputs": [
    {
     "name": "stdout",
     "output_type": "stream",
     "text": [
      "   Temparature\n",
      "0         11.7\n"
     ]
    }
   ],
   "source": [
    "print(df_day[:1])"
   ]
  },
  {
   "cell_type": "code",
   "execution_count": 12,
   "id": "e07a0390-ecbe-41da-a385-154ed05d154a",
   "metadata": {},
   "outputs": [
    {
     "data": {
      "text/html": [
       "<div>\n",
       "<style scoped>\n",
       "    .dataframe tbody tr th:only-of-type {\n",
       "        vertical-align: middle;\n",
       "    }\n",
       "\n",
       "    .dataframe tbody tr th {\n",
       "        vertical-align: top;\n",
       "    }\n",
       "\n",
       "    .dataframe thead th {\n",
       "        text-align: right;\n",
       "    }\n",
       "</style>\n",
       "<table border=\"1\" class=\"dataframe\">\n",
       "  <thead>\n",
       "    <tr style=\"text-align: right;\">\n",
       "      <th></th>\n",
       "      <th>Temparature</th>\n",
       "    </tr>\n",
       "  </thead>\n",
       "  <tbody>\n",
       "    <tr>\n",
       "      <th>0</th>\n",
       "      <td>11.7</td>\n",
       "    </tr>\n",
       "    <tr>\n",
       "      <th>1</th>\n",
       "      <td>16.7</td>\n",
       "    </tr>\n",
       "    <tr>\n",
       "      <th>2</th>\n",
       "      <td>19.3</td>\n",
       "    </tr>\n",
       "    <tr>\n",
       "      <th>3</th>\n",
       "      <td>12.3</td>\n",
       "    </tr>\n",
       "    <tr>\n",
       "      <th>4</th>\n",
       "      <td>9.1</td>\n",
       "    </tr>\n",
       "    <tr>\n",
       "      <th>...</th>\n",
       "      <td>...</td>\n",
       "    </tr>\n",
       "    <tr>\n",
       "      <th>115</th>\n",
       "      <td>12.2</td>\n",
       "    </tr>\n",
       "    <tr>\n",
       "      <th>116</th>\n",
       "      <td>17.6</td>\n",
       "    </tr>\n",
       "    <tr>\n",
       "      <th>117</th>\n",
       "      <td>18.6</td>\n",
       "    </tr>\n",
       "    <tr>\n",
       "      <th>118</th>\n",
       "      <td>15.0</td>\n",
       "    </tr>\n",
       "    <tr>\n",
       "      <th>119</th>\n",
       "      <td>13.2</td>\n",
       "    </tr>\n",
       "  </tbody>\n",
       "</table>\n",
       "<p>120 rows × 1 columns</p>\n",
       "</div>"
      ],
      "text/plain": [
       "    Temparature\n",
       "0          11.7\n",
       "1          16.7\n",
       "2          19.3\n",
       "3          12.3\n",
       "4           9.1\n",
       "..          ...\n",
       "115        12.2\n",
       "116        17.6\n",
       "117        18.6\n",
       "118        15.0\n",
       "119        13.2\n",
       "\n",
       "[120 rows x 1 columns]"
      ]
     },
     "execution_count": 12,
     "metadata": {},
     "output_type": "execute_result"
    }
   ],
   "source": [
    "df_day.astype(str)"
   ]
  },
  {
   "cell_type": "code",
   "execution_count": 13,
   "id": "82991894-e5e6-4d8a-8a95-0cb8168b9e7c",
   "metadata": {},
   "outputs": [
    {
     "name": "stdout",
     "output_type": "stream",
     "text": [
      "<class 'pandas.core.frame.DataFrame'>\n"
     ]
    }
   ],
   "source": [
    "print(type(df_day))"
   ]
  },
  {
   "cell_type": "code",
   "execution_count": 14,
   "id": "9205fe6c-e431-47b6-b2c9-4f0a089234e0",
   "metadata": {},
   "outputs": [
    {
     "name": "stdout",
     "output_type": "stream",
     "text": [
      "<class 'pandas.core.frame.DataFrame'>\n"
     ]
    }
   ],
   "source": [
    "print(type(df_day.astype(str)))"
   ]
  },
  {
   "cell_type": "code",
   "execution_count": 15,
   "id": "8248322f-7efb-4552-b27f-29c4f0a65bb2",
   "metadata": {},
   "outputs": [],
   "source": [
    "import csv\n",
    "f = open('morioka_temperature.csv', 'r')"
   ]
  },
  {
   "cell_type": "code",
   "execution_count": 16,
   "id": "060e4254-2107-4304-86d7-5acb19cbf2b2",
   "metadata": {},
   "outputs": [
    {
     "data": {
      "text/plain": [
       "str"
      ]
     },
     "execution_count": 16,
     "metadata": {},
     "output_type": "execute_result"
    }
   ],
   "source": [
    "type(f.readline())"
   ]
  },
  {
   "cell_type": "code",
   "execution_count": 17,
   "id": "7660cbfc-3213-4bc8-9d11-d3b88355b63f",
   "metadata": {},
   "outputs": [
    {
     "data": {
      "text/plain": [
       "'2018,1,11.7\\n'"
      ]
     },
     "execution_count": 17,
     "metadata": {},
     "output_type": "execute_result"
    }
   ],
   "source": [
    "f.readline()"
   ]
  },
  {
   "cell_type": "code",
   "execution_count": 18,
   "id": "b6e48343-d759-499e-aa35-71c979115939",
   "metadata": {},
   "outputs": [
    {
     "data": {
      "text/plain": [
       "'2018,2,16.7\\n'"
      ]
     },
     "execution_count": 18,
     "metadata": {},
     "output_type": "execute_result"
    }
   ],
   "source": [
    "f.readline()"
   ]
  },
  {
   "cell_type": "code",
   "execution_count": 19,
   "id": "c34e0044-ff7c-46e8-ad74-14ec8119824d",
   "metadata": {},
   "outputs": [
    {
     "data": {
      "text/plain": [
       "<_io.TextIOWrapper name='morioka_temperature.csv' mode='r' encoding='cp932'>"
      ]
     },
     "execution_count": 19,
     "metadata": {},
     "output_type": "execute_result"
    }
   ],
   "source": [
    "f"
   ]
  },
  {
   "cell_type": "code",
   "execution_count": 20,
   "id": "5f5b28ac-3d96-48e4-ad63-e24f7c03195c",
   "metadata": {},
   "outputs": [
    {
     "data": {
      "text/plain": [
       "0"
      ]
     },
     "execution_count": 20,
     "metadata": {},
     "output_type": "execute_result"
    }
   ],
   "source": [
    "f.seek(0)"
   ]
  },
  {
   "cell_type": "code",
   "execution_count": 21,
   "id": "f318416e-e02c-47e6-b614-6eb05072672d",
   "metadata": {},
   "outputs": [
    {
     "data": {
      "text/plain": [
       "'Year,Date,Temparature\\n'"
      ]
     },
     "execution_count": 21,
     "metadata": {},
     "output_type": "execute_result"
    }
   ],
   "source": [
    "f.readline()"
   ]
  },
  {
   "cell_type": "code",
   "execution_count": 22,
   "id": "f1ea2a94-b15e-4f13-bad4-99d57c74b4d6",
   "metadata": {},
   "outputs": [
    {
     "data": {
      "text/plain": [
       "'2018,1,11.7\\n'"
      ]
     },
     "execution_count": 22,
     "metadata": {},
     "output_type": "execute_result"
    }
   ],
   "source": [
    "f.readline()"
   ]
  },
  {
   "cell_type": "code",
   "execution_count": 23,
   "id": "43adc8f7-71f6-4597-b852-44f6e8f6a7b0",
   "metadata": {},
   "outputs": [
    {
     "data": {
      "text/plain": [
       "1"
      ]
     },
     "execution_count": 23,
     "metadata": {},
     "output_type": "execute_result"
    }
   ],
   "source": [
    "f.seek(1)"
   ]
  },
  {
   "cell_type": "code",
   "execution_count": 24,
   "id": "c6d37755-8704-478b-9ef1-69e0aa4fe98f",
   "metadata": {},
   "outputs": [
    {
     "data": {
      "text/plain": [
       "'ear,Date,Temparature\\n'"
      ]
     },
     "execution_count": 24,
     "metadata": {},
     "output_type": "execute_result"
    }
   ],
   "source": [
    "f.readline()"
   ]
  },
  {
   "cell_type": "code",
   "execution_count": 25,
   "id": "7ada011e-da75-4303-89d3-de3bfc267427",
   "metadata": {},
   "outputs": [
    {
     "data": {
      "text/plain": [
       "'2018,1,11.7\\n'"
      ]
     },
     "execution_count": 25,
     "metadata": {},
     "output_type": "execute_result"
    }
   ],
   "source": [
    "f.readline()"
   ]
  },
  {
   "cell_type": "code",
   "execution_count": 26,
   "id": "7d7de3d5-3374-48dd-862e-cd3ec79f047a",
   "metadata": {},
   "outputs": [
    {
     "data": {
      "text/plain": [
       "0"
      ]
     },
     "execution_count": 26,
     "metadata": {},
     "output_type": "execute_result"
    }
   ],
   "source": [
    "f.seek(0)"
   ]
  },
  {
   "cell_type": "code",
   "execution_count": 27,
   "id": "8d57a666-14ff-4847-b825-37144fbdc019",
   "metadata": {},
   "outputs": [],
   "source": [
    "f = csv.reader(f)"
   ]
  },
  {
   "cell_type": "code",
   "execution_count": 28,
   "id": "fb8be0d7-f0f9-4fe6-a99d-23f9f8b282e6",
   "metadata": {},
   "outputs": [
    {
     "name": "stdout",
     "output_type": "stream",
     "text": [
      "<_csv.reader object at 0x000002364EDA2700>\n"
     ]
    }
   ],
   "source": [
    "print(f)"
   ]
  },
  {
   "cell_type": "code",
   "execution_count": 29,
   "id": "28dc88b4-07c6-4911-9da7-c1cc88ea0382",
   "metadata": {},
   "outputs": [],
   "source": [
    "f = [row for row in f]"
   ]
  },
  {
   "cell_type": "code",
   "execution_count": 30,
   "id": "a766aa6c-e65c-42d7-bf4b-afa4bc506b35",
   "metadata": {},
   "outputs": [
    {
     "name": "stdout",
     "output_type": "stream",
     "text": [
      "[['Year', 'Date', 'Temparature'], ['2018', '1', '11.7'], ['2018', '2', '16.7'], ['2018', '3', '19.3'], ['2018', '4', '12.3'], ['2018', '5', '9.1'], ['2018', '6', '4.3'], ['2018', '7', '10.4'], ['2018', '8', '9'], ['2018', '9', '6.9'], ['2018', '10', '12.3'], ['2018', '11', '14.6'], ['2018', '12', '17.1'], ['2018', '13', '13.4'], ['2018', '14', '10.7'], ['2018', '15', '14.2'], ['2018', '16', '11.6'], ['2018', '17', '15.7'], ['2018', '18', '16.4'], ['2018', '19', '20.8'], ['2018', '20', '19.9'], ['2018', '21', '25.8'], ['2018', '22', '23.2'], ['2018', '23', '14.4'], ['2018', '24', '12.7'], ['2018', '25', '9.4'], ['2018', '26', '15.6'], ['2018', '27', '20.6'], ['2018', '28', '17.8'], ['2018', '29', '26.3'], ['2018', '30', '25.9'], ['2019', '1', '4.6'], ['2019', '2', '3.6'], ['2019', '3', '5.2'], ['2019', '4', '9.1'], ['2019', '5', '14.5'], ['2019', '6', '9.5'], ['2019', '7', '11.7'], ['2019', '8', '12'], ['2019', '9', '10.8'], ['2019', '10', '11.3'], ['2019', '11', '10.3'], ['2019', '12', '12.9'], ['2019', '13', '14.4'], ['2019', '14', '18.5'], ['2019', '15', '12.7'], ['2019', '16', '15.7'], ['2019', '17', '23.3'], ['2019', '18', '22.9'], ['2019', '19', '16.9'], ['2019', '20', '13.6'], ['2019', '21', '21'], ['2019', '22', '20.4'], ['2019', '23', '20.9'], ['2019', '24', '22.1'], ['2019', '25', '20.3'], ['2019', '26', '9.1'], ['2019', '27', '6.4'], ['2019', '28', '15.6'], ['2019', '29', '19.8'], ['2019', '30', '12.9'], ['2020', '1', '13.1'], ['2020', '2', '9.6'], ['2020', '3', '14.6'], ['2020', '4', '18'], ['2020', '5', '6.8'], ['2020', '6', '6.5'], ['2020', '7', '11.8'], ['2020', '8', '16.7'], ['2020', '9', '10.4'], ['2020', '10', '8.2'], ['2020', '11', '12'], ['2020', '12', '13.6'], ['2020', '13', '9.6'], ['2020', '14', '12.8'], ['2020', '15', '13.1'], ['2020', '16', '12.1'], ['2020', '17', '15.4'], ['2020', '18', '9.2'], ['2020', '19', '14'], ['2020', '20', '11.2'], ['2020', '21', '12.8'], ['2020', '22', '7'], ['2020', '23', '9.1'], ['2020', '24', '9.6'], ['2020', '25', '13.7'], ['2020', '26', '15.6'], ['2020', '27', '12.3'], ['2020', '28', '11.7'], ['2020', '29', '15.9'], ['2020', '30', '19.8'], ['2021', '1', '16.3'], ['2021', '2', '17.9'], ['2021', '3', '19.4'], ['2021', '4', '13.5'], ['2021', '5', '10.4'], ['2021', '6', '12.4'], ['2021', '7', '15.8'], ['2021', '8', '11.8'], ['2021', '9', '7.2'], ['2021', '10', '10.7'], ['2021', '11', '15.9'], ['2021', '12', '18.9'], ['2021', '13', '18.8'], ['2021', '14', '12.7'], ['2021', '15', '11.8'], ['2021', '16', '15.7'], ['2021', '17', '14.9'], ['2021', '18', '14.2'], ['2021', '19', '12.7'], ['2021', '20', '18.6'], ['2021', '21', '16.7'], ['2021', '22', '18.3'], ['2021', '23', '19.9'], ['2021', '24', '22.1'], ['2021', '25', '14.1'], ['2021', '26', '12.2'], ['2021', '27', '17.6'], ['2021', '28', '18.6'], ['2021', '29', '15'], ['2021', '30', '13.2']]\n"
     ]
    }
   ],
   "source": [
    "print(f)"
   ]
  },
  {
   "cell_type": "code",
   "execution_count": 31,
   "id": "330d66ce-f62e-4da3-a12c-30292314eee8",
   "metadata": {},
   "outputs": [
    {
     "name": "stdout",
     "output_type": "stream",
     "text": [
      "['2018', '1', '11.7']\n"
     ]
    }
   ],
   "source": [
    "print(f[1])"
   ]
  },
  {
   "cell_type": "code",
   "execution_count": 32,
   "id": "d5138be7-644e-4381-9d33-61956c0ef263",
   "metadata": {},
   "outputs": [
    {
     "name": "stdout",
     "output_type": "stream",
     "text": [
      "1\n"
     ]
    }
   ],
   "source": [
    "print(f[1][1])"
   ]
  },
  {
   "cell_type": "code",
   "execution_count": 33,
   "id": "96bb2a02-0ace-49f2-839c-5962e87d83ce",
   "metadata": {},
   "outputs": [
    {
     "name": "stdout",
     "output_type": "stream",
     "text": [
      "<class 'str'>\n"
     ]
    }
   ],
   "source": [
    "print(type(f[1][1]))"
   ]
  },
  {
   "cell_type": "code",
   "execution_count": 34,
   "id": "98c8e1a8-c3ed-4aa0-a34b-dc35df89d16c",
   "metadata": {},
   "outputs": [
    {
     "data": {
      "text/plain": [
       "'1'"
      ]
     },
     "execution_count": 34,
     "metadata": {},
     "output_type": "execute_result"
    }
   ],
   "source": [
    "f[1][1]"
   ]
  },
  {
   "cell_type": "code",
   "execution_count": 35,
   "id": "74a5d414-a390-4110-88ce-947705f88499",
   "metadata": {},
   "outputs": [
    {
     "data": {
      "text/plain": [
       "'11.7'"
      ]
     },
     "execution_count": 35,
     "metadata": {},
     "output_type": "execute_result"
    }
   ],
   "source": [
    "f[1][2]"
   ]
  },
  {
   "cell_type": "raw",
   "id": "70d7d6aa-161e-4df5-880d-65dd10230096",
   "metadata": {},
   "source": [
    "range(1,122)"
   ]
  },
  {
   "cell_type": "code",
   "execution_count": 36,
   "id": "e518724d-eb9c-4af3-8b53-d80ef3e90247",
   "metadata": {},
   "outputs": [
    {
     "name": "stdout",
     "output_type": "stream",
     "text": [
      "range(1, 122)\n"
     ]
    }
   ],
   "source": [
    "print(range(1,122))"
   ]
  },
  {
   "cell_type": "code",
   "execution_count": 37,
   "id": "962afa09-e27f-42e5-8936-518a6a0c1ba7",
   "metadata": {},
   "outputs": [
    {
     "data": {
      "text/plain": [
       "range(1, 4)"
      ]
     },
     "execution_count": 37,
     "metadata": {},
     "output_type": "execute_result"
    }
   ],
   "source": [
    "range(1,4)"
   ]
  },
  {
   "cell_type": "code",
   "execution_count": 38,
   "id": "ab9352fd-04d6-4878-8a3f-c97d16b37ee1",
   "metadata": {},
   "outputs": [
    {
     "name": "stdout",
     "output_type": "stream",
     "text": [
      "1\n",
      "2\n",
      "3\n",
      "4\n",
      "5\n",
      "6\n",
      "7\n",
      "8\n",
      "9\n"
     ]
    }
   ],
   "source": [
    "for i in range(1, 10):\n",
    "    print(f[i][1])"
   ]
  },
  {
   "cell_type": "code",
   "execution_count": 39,
   "id": "e54d96f9-ffdf-475e-9b04-1a7f2ff1ac6f",
   "metadata": {},
   "outputs": [
    {
     "name": "stdout",
     "output_type": "stream",
     "text": [
      "1\n",
      "1\n",
      "2\n",
      "2\n",
      "3\n",
      "3\n",
      "4\n",
      "4\n",
      "5\n",
      "5\n",
      "6\n",
      "6\n",
      "7\n",
      "7\n",
      "8\n",
      "8\n",
      "9\n",
      "9\n"
     ]
    }
   ],
   "source": [
    "for i in range(1, 10):\n",
    "    print(f[i][1])\n",
    "    print(i)"
   ]
  },
  {
   "cell_type": "code",
   "execution_count": 40,
   "id": "60ca4e00-931e-467c-bf89-8064d6f0b864",
   "metadata": {},
   "outputs": [],
   "source": [
    "import re\n",
    "p = re.compile(r\"<[^>]*?>\")\n",
    "with open('morioka_temperature_.csv', 'a', newline='') as a:\n",
    "    new_df = csv.writer(a)\n",
    "    new_df.writerow([\"Date\", \"Temparature\"])\n",
    "    for i in range(1, 121):\n",
    "        new_day = f[i][1].strip()\n",
    "        new_day = p.sub(\"\", new_day)\n",
    "        new_temp = f[i][2].strip()\n",
    "        new_temp = p.sub(\"\", new_temp)\n",
    "        new_df.writerow([new_day, new_temp])"
   ]
  },
  {
   "cell_type": "code",
   "execution_count": 41,
   "id": "f17a0ff7-89e8-4835-bf5b-80088b1fca4f",
   "metadata": {},
   "outputs": [],
   "source": [
    "new_df = open('morioka_temperature_.csv', 'r')"
   ]
  },
  {
   "cell_type": "code",
   "execution_count": 42,
   "id": "dc671a8c-447b-48b0-b3df-39f220a607e2",
   "metadata": {},
   "outputs": [
    {
     "data": {
      "text/plain": [
       "<_io.TextIOWrapper name='morioka_temperature_.csv' mode='r' encoding='cp932'>"
      ]
     },
     "execution_count": 42,
     "metadata": {},
     "output_type": "execute_result"
    }
   ],
   "source": [
    "new_df"
   ]
  },
  {
   "cell_type": "code",
   "execution_count": 43,
   "id": "fc9c90c3-ebc7-4927-aa1c-017ef4998191",
   "metadata": {},
   "outputs": [
    {
     "data": {
      "text/plain": [
       "<_csv.reader at 0x2364ed92760>"
      ]
     },
     "execution_count": 43,
     "metadata": {},
     "output_type": "execute_result"
    }
   ],
   "source": [
    "csv.reader(new_df)"
   ]
  },
  {
   "cell_type": "code",
   "execution_count": 44,
   "id": "5b033440-f466-4537-bb22-f5d980e5a06a",
   "metadata": {},
   "outputs": [],
   "source": [
    "df = pd.read_csv('morioka_temperature.csv')"
   ]
  },
  {
   "cell_type": "code",
   "execution_count": 45,
   "id": "6959a333-13fe-430f-b7b5-b57fdeefb545",
   "metadata": {},
   "outputs": [
    {
     "name": "stdout",
     "output_type": "stream",
     "text": [
      "     Year  Date  Temparature\n",
      "0    2018     1         11.7\n",
      "1    2018     2         16.7\n",
      "2    2018     3         19.3\n",
      "3    2018     4         12.3\n",
      "4    2018     5          9.1\n",
      "..    ...   ...          ...\n",
      "115  2021    26         12.2\n",
      "116  2021    27         17.6\n",
      "117  2021    28         18.6\n",
      "118  2021    29         15.0\n",
      "119  2021    30         13.2\n",
      "\n",
      "[120 rows x 3 columns]\n"
     ]
    }
   ],
   "source": [
    "print(df)"
   ]
  },
  {
   "cell_type": "code",
   "execution_count": 46,
   "id": "2f5f0e78-4645-4ec6-87b3-6d43bd3cb7d6",
   "metadata": {},
   "outputs": [],
   "source": [
    "f = open('morioka_temperature.csv', 'r')"
   ]
  },
  {
   "cell_type": "code",
   "execution_count": 47,
   "id": "a8c6a94f-5aea-412d-86b0-9e4bfe91e7cd",
   "metadata": {},
   "outputs": [
    {
     "data": {
      "text/plain": [
       "<_io.TextIOWrapper name='morioka_temperature.csv' mode='r' encoding='cp932'>"
      ]
     },
     "execution_count": 47,
     "metadata": {},
     "output_type": "execute_result"
    }
   ],
   "source": [
    "f"
   ]
  },
  {
   "cell_type": "code",
   "execution_count": 48,
   "id": "b8232652-2a04-49ec-b23f-8a893e2b53d8",
   "metadata": {},
   "outputs": [],
   "source": [
    "f = csv.reader(f)\n",
    "f = [row for row in f]"
   ]
  },
  {
   "cell_type": "code",
   "execution_count": 49,
   "id": "fd886a8c-d8ec-4263-9063-6512d0cae508",
   "metadata": {},
   "outputs": [
    {
     "data": {
      "text/plain": [
       "['2018', '1', '11.7']"
      ]
     },
     "execution_count": 49,
     "metadata": {},
     "output_type": "execute_result"
    }
   ],
   "source": [
    "f[1]"
   ]
  },
  {
   "cell_type": "code",
   "execution_count": 50,
   "id": "2e634138-2e9b-4dd2-83b9-df8a742a9513",
   "metadata": {},
   "outputs": [
    {
     "data": {
      "text/plain": [
       "[['Year', 'Date', 'Temparature'],\n",
       " ['2018', '1', '11.7'],\n",
       " ['2018', '2', '16.7'],\n",
       " ['2018', '3', '19.3'],\n",
       " ['2018', '4', '12.3'],\n",
       " ['2018', '5', '9.1'],\n",
       " ['2018', '6', '4.3'],\n",
       " ['2018', '7', '10.4'],\n",
       " ['2018', '8', '9'],\n",
       " ['2018', '9', '6.9'],\n",
       " ['2018', '10', '12.3'],\n",
       " ['2018', '11', '14.6'],\n",
       " ['2018', '12', '17.1'],\n",
       " ['2018', '13', '13.4'],\n",
       " ['2018', '14', '10.7'],\n",
       " ['2018', '15', '14.2'],\n",
       " ['2018', '16', '11.6'],\n",
       " ['2018', '17', '15.7'],\n",
       " ['2018', '18', '16.4'],\n",
       " ['2018', '19', '20.8'],\n",
       " ['2018', '20', '19.9'],\n",
       " ['2018', '21', '25.8'],\n",
       " ['2018', '22', '23.2'],\n",
       " ['2018', '23', '14.4'],\n",
       " ['2018', '24', '12.7'],\n",
       " ['2018', '25', '9.4'],\n",
       " ['2018', '26', '15.6'],\n",
       " ['2018', '27', '20.6'],\n",
       " ['2018', '28', '17.8'],\n",
       " ['2018', '29', '26.3'],\n",
       " ['2018', '30', '25.9'],\n",
       " ['2019', '1', '4.6'],\n",
       " ['2019', '2', '3.6'],\n",
       " ['2019', '3', '5.2'],\n",
       " ['2019', '4', '9.1'],\n",
       " ['2019', '5', '14.5'],\n",
       " ['2019', '6', '9.5'],\n",
       " ['2019', '7', '11.7'],\n",
       " ['2019', '8', '12'],\n",
       " ['2019', '9', '10.8'],\n",
       " ['2019', '10', '11.3'],\n",
       " ['2019', '11', '10.3'],\n",
       " ['2019', '12', '12.9'],\n",
       " ['2019', '13', '14.4'],\n",
       " ['2019', '14', '18.5'],\n",
       " ['2019', '15', '12.7'],\n",
       " ['2019', '16', '15.7'],\n",
       " ['2019', '17', '23.3'],\n",
       " ['2019', '18', '22.9'],\n",
       " ['2019', '19', '16.9'],\n",
       " ['2019', '20', '13.6'],\n",
       " ['2019', '21', '21'],\n",
       " ['2019', '22', '20.4'],\n",
       " ['2019', '23', '20.9'],\n",
       " ['2019', '24', '22.1'],\n",
       " ['2019', '25', '20.3'],\n",
       " ['2019', '26', '9.1'],\n",
       " ['2019', '27', '6.4'],\n",
       " ['2019', '28', '15.6'],\n",
       " ['2019', '29', '19.8'],\n",
       " ['2019', '30', '12.9'],\n",
       " ['2020', '1', '13.1'],\n",
       " ['2020', '2', '9.6'],\n",
       " ['2020', '3', '14.6'],\n",
       " ['2020', '4', '18'],\n",
       " ['2020', '5', '6.8'],\n",
       " ['2020', '6', '6.5'],\n",
       " ['2020', '7', '11.8'],\n",
       " ['2020', '8', '16.7'],\n",
       " ['2020', '9', '10.4'],\n",
       " ['2020', '10', '8.2'],\n",
       " ['2020', '11', '12'],\n",
       " ['2020', '12', '13.6'],\n",
       " ['2020', '13', '9.6'],\n",
       " ['2020', '14', '12.8'],\n",
       " ['2020', '15', '13.1'],\n",
       " ['2020', '16', '12.1'],\n",
       " ['2020', '17', '15.4'],\n",
       " ['2020', '18', '9.2'],\n",
       " ['2020', '19', '14'],\n",
       " ['2020', '20', '11.2'],\n",
       " ['2020', '21', '12.8'],\n",
       " ['2020', '22', '7'],\n",
       " ['2020', '23', '9.1'],\n",
       " ['2020', '24', '9.6'],\n",
       " ['2020', '25', '13.7'],\n",
       " ['2020', '26', '15.6'],\n",
       " ['2020', '27', '12.3'],\n",
       " ['2020', '28', '11.7'],\n",
       " ['2020', '29', '15.9'],\n",
       " ['2020', '30', '19.8'],\n",
       " ['2021', '1', '16.3'],\n",
       " ['2021', '2', '17.9'],\n",
       " ['2021', '3', '19.4'],\n",
       " ['2021', '4', '13.5'],\n",
       " ['2021', '5', '10.4'],\n",
       " ['2021', '6', '12.4'],\n",
       " ['2021', '7', '15.8'],\n",
       " ['2021', '8', '11.8'],\n",
       " ['2021', '9', '7.2'],\n",
       " ['2021', '10', '10.7'],\n",
       " ['2021', '11', '15.9'],\n",
       " ['2021', '12', '18.9'],\n",
       " ['2021', '13', '18.8'],\n",
       " ['2021', '14', '12.7'],\n",
       " ['2021', '15', '11.8'],\n",
       " ['2021', '16', '15.7'],\n",
       " ['2021', '17', '14.9'],\n",
       " ['2021', '18', '14.2'],\n",
       " ['2021', '19', '12.7'],\n",
       " ['2021', '20', '18.6'],\n",
       " ['2021', '21', '16.7'],\n",
       " ['2021', '22', '18.3'],\n",
       " ['2021', '23', '19.9'],\n",
       " ['2021', '24', '22.1'],\n",
       " ['2021', '25', '14.1'],\n",
       " ['2021', '26', '12.2'],\n",
       " ['2021', '27', '17.6'],\n",
       " ['2021', '28', '18.6'],\n",
       " ['2021', '29', '15'],\n",
       " ['2021', '30', '13.2']]"
      ]
     },
     "execution_count": 50,
     "metadata": {},
     "output_type": "execute_result"
    }
   ],
   "source": [
    "f"
   ]
  },
  {
   "cell_type": "code",
   "execution_count": 51,
   "id": "f545ccc8-9ee6-4132-a22f-f2c9570420ae",
   "metadata": {},
   "outputs": [],
   "source": [
    "with open('morioka_temperature_.csv', 'a') as a:\n",
    "    new_df = csv.writer(a)\n",
    "    new_df.writerow([\"Date\", \"Temparature\"])\n",
    "    for i in range(1, 121):\n",
    "        new_day = f[i][1].strip()\n",
    "        new_temp = f[i][2].strip()\n",
    "        new_df.writerow([int(new_day), float(new_temp)])"
   ]
  },
  {
   "cell_type": "code",
   "execution_count": 52,
   "id": "274b4404-95e0-4c1c-afac-e6789e14698d",
   "metadata": {},
   "outputs": [
    {
     "data": {
      "text/plain": [
       "str"
      ]
     },
     "execution_count": 52,
     "metadata": {},
     "output_type": "execute_result"
    }
   ],
   "source": [
    "type(f[1][1])"
   ]
  },
  {
   "cell_type": "code",
   "execution_count": 53,
   "id": "bf36362c-6386-4f8e-a627-c2245ea67937",
   "metadata": {},
   "outputs": [
    {
     "data": {
      "text/plain": [
       "'1'"
      ]
     },
     "execution_count": 53,
     "metadata": {},
     "output_type": "execute_result"
    }
   ],
   "source": [
    "f[1][1]"
   ]
  },
  {
   "cell_type": "code",
   "execution_count": 54,
   "id": "2e14d74e-6367-4f62-9751-76604a5b555f",
   "metadata": {},
   "outputs": [
    {
     "data": {
      "text/plain": [
       "'1'"
      ]
     },
     "execution_count": 54,
     "metadata": {},
     "output_type": "execute_result"
    }
   ],
   "source": [
    "f[1][1].strip()"
   ]
  },
  {
   "cell_type": "code",
   "execution_count": 55,
   "id": "9a844fee-6b88-4e02-b16b-bac5adb10810",
   "metadata": {},
   "outputs": [
    {
     "data": {
      "text/plain": [
       "1"
      ]
     },
     "execution_count": 55,
     "metadata": {},
     "output_type": "execute_result"
    }
   ],
   "source": [
    "int(f[1][1])"
   ]
  },
  {
   "cell_type": "code",
   "execution_count": 56,
   "id": "0924367f-1fb6-4965-8766-4376ca8e2633",
   "metadata": {},
   "outputs": [
    {
     "data": {
      "text/plain": [
       "'[1['"
      ]
     },
     "execution_count": 56,
     "metadata": {},
     "output_type": "execute_result"
    }
   ],
   "source": [
    "f[1][1].replace(\"\", \"[\")"
   ]
  },
  {
   "cell_type": "code",
   "execution_count": 57,
   "id": "b06557f7-337c-47e6-8ce1-21100777071c",
   "metadata": {},
   "outputs": [
    {
     "data": {
      "text/plain": [
       "'1'"
      ]
     },
     "execution_count": 57,
     "metadata": {},
     "output_type": "execute_result"
    }
   ],
   "source": [
    "f[1][1].replace(\"[\", \"\")"
   ]
  },
  {
   "cell_type": "code",
   "execution_count": 58,
   "id": "406c12db-a0d2-464d-b21b-8d52130d9214",
   "metadata": {},
   "outputs": [
    {
     "data": {
      "text/plain": [
       "'1'"
      ]
     },
     "execution_count": 58,
     "metadata": {},
     "output_type": "execute_result"
    }
   ],
   "source": [
    "f[1][1].replace(\"[]\", \"\")"
   ]
  },
  {
   "cell_type": "code",
   "execution_count": 59,
   "id": "1b3b8363-efff-4162-bdd7-3308a4a3ac03",
   "metadata": {},
   "outputs": [
    {
     "data": {
      "text/plain": [
       "'1'"
      ]
     },
     "execution_count": 59,
     "metadata": {},
     "output_type": "execute_result"
    }
   ],
   "source": [
    "f[1][1].replace(\"[\", \"\")\n",
    "f[1][1].replace(\"]\", \"\")"
   ]
  },
  {
   "cell_type": "code",
   "execution_count": 60,
   "id": "0d6924c3-3f44-40b5-b2cc-98fcea59382a",
   "metadata": {},
   "outputs": [],
   "source": [
    "test = f[1][1].replace(\"[\", \"\")\n",
    "test = test.replace(\"]\", \"\")"
   ]
  },
  {
   "cell_type": "code",
   "execution_count": 61,
   "id": "a6608e6a-532d-4e80-b494-1287a94126a0",
   "metadata": {},
   "outputs": [
    {
     "data": {
      "text/plain": [
       "'1'"
      ]
     },
     "execution_count": 61,
     "metadata": {},
     "output_type": "execute_result"
    }
   ],
   "source": [
    "test"
   ]
  },
  {
   "cell_type": "code",
   "execution_count": 62,
   "id": "64365fb4-1eac-4464-a41c-fae4282e6f4e",
   "metadata": {},
   "outputs": [
    {
     "data": {
      "text/plain": [
       "1"
      ]
     },
     "execution_count": 62,
     "metadata": {},
     "output_type": "execute_result"
    }
   ],
   "source": [
    "int(test)"
   ]
  },
  {
   "cell_type": "code",
   "execution_count": 63,
   "id": "5907c85f-7b78-4618-94fe-770f5473151c",
   "metadata": {},
   "outputs": [],
   "source": [
    "with open('morioka_temperature_.csv', 'a', newline='') as a:\n",
    "    new_df = csv.writer(a)\n",
    "    new_df.writerow([\"Date\", \"Temparature\"])\n",
    "    for i in range(1, 121):\n",
    "        test = f[i][1].replace(\"[\", \"\")\n",
    "        new_day = test.replace(\"]\", \"\")\n",
    "        test = f[i][2].replace(\"[\", \"\")\n",
    "        new_temp = test.replace(\"]\", \"\")\n",
    "        new_df.writerow([int(new_day), float(new_temp)])"
   ]
  },
  {
   "cell_type": "code",
   "execution_count": 64,
   "id": "dc18b7c8-1e3a-4a3a-acde-2abea3c22253",
   "metadata": {},
   "outputs": [],
   "source": [
    "f = open('morioka_temperature.csv', 'r')"
   ]
  },
  {
   "cell_type": "code",
   "execution_count": 65,
   "id": "b6a73b25-7ac0-43b2-bf66-382b77b59ea6",
   "metadata": {},
   "outputs": [],
   "source": [
    "f = csv.reader(f)\n",
    "f = [row for row in f]"
   ]
  },
  {
   "cell_type": "code",
   "execution_count": 66,
   "id": "4b67468b-fc95-487b-8832-f89da896d7f3",
   "metadata": {},
   "outputs": [],
   "source": [
    "with open('morioka_temperature_.csv', 'a', newline='') as a:\n",
    "    new_df = csv.writer(a)\n",
    "    new_df.writerow([\"Date\", \"Temparature\"])\n",
    "    for i in range(1, 121):\n",
    "        test = f[i][1].replace(\"[\", \"\")\n",
    "        new_day = test.replace(\"]\", \"\")\n",
    "        test = f[i][2].replace(\"[\", \"\")\n",
    "        new_temp = test.replace(\"]\", \"\")\n",
    "        new_df.writerow([int(new_day), float(new_temp)])"
   ]
  }
 ],
 "metadata": {
  "kernelspec": {
   "display_name": "Python 3",
   "language": "python",
   "name": "python3"
  },
  "language_info": {
   "codemirror_mode": {
    "name": "ipython",
    "version": 3
   },
   "file_extension": ".py",
   "mimetype": "text/x-python",
   "name": "python",
   "nbconvert_exporter": "python",
   "pygments_lexer": "ipython3",
   "version": "3.8.5"
  }
 },
 "nbformat": 4,
 "nbformat_minor": 5
}
