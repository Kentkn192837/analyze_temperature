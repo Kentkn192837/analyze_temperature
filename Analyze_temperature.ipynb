{
 "cells": [
  {
   "cell_type": "code",
   "execution_count": 1,
   "id": "0eda7789-9d5d-4ab5-acbd-dcbc447d396c",
   "metadata": {},
   "outputs": [],
   "source": [
    "from matplotlib import pyplot as plt\n",
    "import pandas as pd"
   ]
  },
  {
   "cell_type": "code",
   "execution_count": 2,
   "id": "d083ef3a-795b-4536-92d4-2298f9c293fd",
   "metadata": {},
   "outputs": [],
   "source": [
    "df = pd.read_csv('morioka_temperature.csv')"
   ]
  },
  {
   "cell_type": "code",
   "execution_count": 3,
   "id": "7423ac52-cbb3-4ef6-91b0-d450fe796baf",
   "metadata": {},
   "outputs": [
    {
     "name": "stdout",
     "output_type": "stream",
     "text": [
      "     Year                                                Day  \\\n",
      "0    2018  [<a href=\"hourly_s1.php?prec_no=33&amp;block_n...   \n",
      "1    2018  [<a href=\"hourly_s1.php?prec_no=33&amp;block_n...   \n",
      "2    2018  [<a href=\"hourly_s1.php?prec_no=33&amp;block_n...   \n",
      "3    2018  [<a href=\"hourly_s1.php?prec_no=33&amp;block_n...   \n",
      "4    2018  [<a href=\"hourly_s1.php?prec_no=33&amp;block_n...   \n",
      "..    ...                                                ...   \n",
      "115  2021  [<a href=\"hourly_s1.php?prec_no=33&amp;block_n...   \n",
      "116  2021  [<a href=\"hourly_s1.php?prec_no=33&amp;block_n...   \n",
      "117  2021  [<a href=\"hourly_s1.php?prec_no=33&amp;block_n...   \n",
      "118  2021  [<a href=\"hourly_s1.php?prec_no=33&amp;block_n...   \n",
      "119  2021  [<a href=\"hourly_s1.php?prec_no=33&amp;block_n...   \n",
      "\n",
      "                          Temperature  \n",
      "0    [<td class=\"data_0_0\">11.7</td>]  \n",
      "1    [<td class=\"data_0_0\">16.7</td>]  \n",
      "2    [<td class=\"data_0_0\">19.3</td>]  \n",
      "3    [<td class=\"data_0_0\">12.3</td>]  \n",
      "4     [<td class=\"data_0_0\">9.1</td>]  \n",
      "..                                ...  \n",
      "115  [<td class=\"data_0_0\">12.2</td>]  \n",
      "116  [<td class=\"data_0_0\">17.6</td>]  \n",
      "117  [<td class=\"data_0_0\">18.6</td>]  \n",
      "118  [<td class=\"data_0_0\">15.0</td>]  \n",
      "119  [<td class=\"data_0_0\">13.2</td>]  \n",
      "\n",
      "[120 rows x 3 columns]\n"
     ]
    }
   ],
   "source": [
    "print(df)"
   ]
  },
  {
   "cell_type": "code",
   "execution_count": 4,
   "id": "4c492f98-e470-40a7-88fd-a6a3a28ae9b2",
   "metadata": {},
   "outputs": [
    {
     "data": {
      "text/plain": [
       "Index(['Year', 'Day', 'Temperature'], dtype='object')"
      ]
     },
     "execution_count": 4,
     "metadata": {},
     "output_type": "execute_result"
    }
   ],
   "source": [
    "df.columns"
   ]
  },
  {
   "cell_type": "code",
   "execution_count": 6,
   "id": "2eb38950-ade9-4e9a-8987-c6638c0d2d81",
   "metadata": {},
   "outputs": [
    {
     "data": {
      "text/plain": [
       "'Day'"
      ]
     },
     "execution_count": 6,
     "metadata": {},
     "output_type": "execute_result"
    }
   ],
   "source": [
    "df.columns[1]"
   ]
  },
  {
   "cell_type": "code",
   "execution_count": 8,
   "id": "d95a1ad5-f9fa-4a1d-9939-2e0db180aa5c",
   "metadata": {},
   "outputs": [
    {
     "name": "stdout",
     "output_type": "stream",
     "text": [
      "                          Temperature\n",
      "0    [<td class=\"data_0_0\">11.7</td>]\n",
      "1    [<td class=\"data_0_0\">16.7</td>]\n",
      "2    [<td class=\"data_0_0\">19.3</td>]\n",
      "3    [<td class=\"data_0_0\">12.3</td>]\n",
      "4     [<td class=\"data_0_0\">9.1</td>]\n",
      "..                                ...\n",
      "115  [<td class=\"data_0_0\">12.2</td>]\n",
      "116  [<td class=\"data_0_0\">17.6</td>]\n",
      "117  [<td class=\"data_0_0\">18.6</td>]\n",
      "118  [<td class=\"data_0_0\">15.0</td>]\n",
      "119  [<td class=\"data_0_0\">13.2</td>]\n",
      "\n",
      "[120 rows x 1 columns]\n"
     ]
    }
   ],
   "source": [
    "df_day = pd.read_csv('morioka_temperature.csv', header=0, usecols=[2])\n",
    "print(df_day)"
   ]
  },
  {
   "cell_type": "code",
   "execution_count": 9,
   "id": "9b4fa1a4-4ce8-4dd4-8ec8-365231623200",
   "metadata": {},
   "outputs": [
    {
     "data": {
      "text/html": [
       "<div>\n",
       "<style scoped>\n",
       "    .dataframe tbody tr th:only-of-type {\n",
       "        vertical-align: middle;\n",
       "    }\n",
       "\n",
       "    .dataframe tbody tr th {\n",
       "        vertical-align: top;\n",
       "    }\n",
       "\n",
       "    .dataframe thead th {\n",
       "        text-align: right;\n",
       "    }\n",
       "</style>\n",
       "<table border=\"1\" class=\"dataframe\">\n",
       "  <thead>\n",
       "    <tr style=\"text-align: right;\">\n",
       "      <th></th>\n",
       "      <th>Temperature</th>\n",
       "    </tr>\n",
       "  </thead>\n",
       "  <tbody>\n",
       "    <tr>\n",
       "      <th>0</th>\n",
       "      <td>[&lt;td class=\"data_0_0\"&gt;11.7&lt;/td&gt;]</td>\n",
       "    </tr>\n",
       "  </tbody>\n",
       "</table>\n",
       "</div>"
      ],
      "text/plain": [
       "                        Temperature\n",
       "0  [<td class=\"data_0_0\">11.7</td>]"
      ]
     },
     "execution_count": 9,
     "metadata": {},
     "output_type": "execute_result"
    }
   ],
   "source": [
    "df_day[:1]"
   ]
  },
  {
   "cell_type": "code",
   "execution_count": 10,
   "id": "624945d0-5b8c-4d2a-b57b-0e6ffa83799d",
   "metadata": {},
   "outputs": [
    {
     "data": {
      "text/html": [
       "<div>\n",
       "<style scoped>\n",
       "    .dataframe tbody tr th:only-of-type {\n",
       "        vertical-align: middle;\n",
       "    }\n",
       "\n",
       "    .dataframe tbody tr th {\n",
       "        vertical-align: top;\n",
       "    }\n",
       "\n",
       "    .dataframe thead th {\n",
       "        text-align: right;\n",
       "    }\n",
       "</style>\n",
       "<table border=\"1\" class=\"dataframe\">\n",
       "  <thead>\n",
       "    <tr style=\"text-align: right;\">\n",
       "      <th></th>\n",
       "      <th>Temperature</th>\n",
       "    </tr>\n",
       "  </thead>\n",
       "  <tbody>\n",
       "    <tr>\n",
       "      <th>0</th>\n",
       "      <td>[&lt;td class=\"data_0_0\"&gt;11.7&lt;/td&gt;]</td>\n",
       "    </tr>\n",
       "    <tr>\n",
       "      <th>1</th>\n",
       "      <td>[&lt;td class=\"data_0_0\"&gt;16.7&lt;/td&gt;]</td>\n",
       "    </tr>\n",
       "    <tr>\n",
       "      <th>2</th>\n",
       "      <td>[&lt;td class=\"data_0_0\"&gt;19.3&lt;/td&gt;]</td>\n",
       "    </tr>\n",
       "  </tbody>\n",
       "</table>\n",
       "</div>"
      ],
      "text/plain": [
       "                        Temperature\n",
       "0  [<td class=\"data_0_0\">11.7</td>]\n",
       "1  [<td class=\"data_0_0\">16.7</td>]\n",
       "2  [<td class=\"data_0_0\">19.3</td>]"
      ]
     },
     "execution_count": 10,
     "metadata": {},
     "output_type": "execute_result"
    }
   ],
   "source": [
    "df_day[:3]"
   ]
  },
  {
   "cell_type": "code",
   "execution_count": 11,
   "id": "582872ab-c1bd-499d-b523-d32941be8d05",
   "metadata": {},
   "outputs": [
    {
     "data": {
      "text/plain": [
       "pandas.core.frame.DataFrame"
      ]
     },
     "execution_count": 11,
     "metadata": {},
     "output_type": "execute_result"
    }
   ],
   "source": [
    "type(df_day)"
   ]
  },
  {
   "cell_type": "code",
   "execution_count": 12,
   "id": "d05befbe-a354-409d-a785-8db2d62e2ae3",
   "metadata": {},
   "outputs": [
    {
     "name": "stdout",
     "output_type": "stream",
     "text": [
      "                        Temperature\n",
      "0  [<td class=\"data_0_0\">11.7</td>]\n",
      "1  [<td class=\"data_0_0\">16.7</td>]\n",
      "2  [<td class=\"data_0_0\">19.3</td>]\n"
     ]
    }
   ],
   "source": [
    "print(df_day[:3])"
   ]
  },
  {
   "cell_type": "code",
   "execution_count": 13,
   "id": "1fe20497-f987-42fa-baf6-9bf9097d5088",
   "metadata": {},
   "outputs": [
    {
     "name": "stdout",
     "output_type": "stream",
     "text": [
      "                        Temperature\n",
      "0  [<td class=\"data_0_0\">11.7</td>]\n"
     ]
    }
   ],
   "source": [
    "print(df_day[:1])"
   ]
  },
  {
   "cell_type": "code",
   "execution_count": 14,
   "id": "7b090ad4-fe86-47bc-94af-47a908344468",
   "metadata": {},
   "outputs": [
    {
     "ename": "AttributeError",
     "evalue": "'DataFrame' object has no attribute 'strip'",
     "output_type": "error",
     "traceback": [
      "\u001b[1;31m---------------------------------------------------------------------------\u001b[0m",
      "\u001b[1;31mAttributeError\u001b[0m                            Traceback (most recent call last)",
      "\u001b[1;32m<ipython-input-14-e17cf8ccb915>\u001b[0m in \u001b[0;36m<module>\u001b[1;34m\u001b[0m\n\u001b[1;32m----> 1\u001b[1;33m \u001b[0mprint\u001b[0m\u001b[1;33m(\u001b[0m\u001b[0mdf_day\u001b[0m\u001b[1;33m[\u001b[0m\u001b[1;33m:\u001b[0m\u001b[1;36m1\u001b[0m\u001b[1;33m]\u001b[0m\u001b[1;33m.\u001b[0m\u001b[0mstrip\u001b[0m\u001b[1;33m(\u001b[0m\u001b[1;33m)\u001b[0m\u001b[1;33m)\u001b[0m\u001b[1;33m\u001b[0m\u001b[1;33m\u001b[0m\u001b[0m\n\u001b[0m",
      "\u001b[1;32m~\\anaconda3\\envs\\AnalyzeTemperature\\lib\\site-packages\\pandas\\core\\generic.py\u001b[0m in \u001b[0;36m__getattr__\u001b[1;34m(self, name)\u001b[0m\n\u001b[0;32m   5463\u001b[0m             \u001b[1;32mif\u001b[0m \u001b[0mself\u001b[0m\u001b[1;33m.\u001b[0m\u001b[0m_info_axis\u001b[0m\u001b[1;33m.\u001b[0m\u001b[0m_can_hold_identifiers_and_holds_name\u001b[0m\u001b[1;33m(\u001b[0m\u001b[0mname\u001b[0m\u001b[1;33m)\u001b[0m\u001b[1;33m:\u001b[0m\u001b[1;33m\u001b[0m\u001b[1;33m\u001b[0m\u001b[0m\n\u001b[0;32m   5464\u001b[0m                 \u001b[1;32mreturn\u001b[0m \u001b[0mself\u001b[0m\u001b[1;33m[\u001b[0m\u001b[0mname\u001b[0m\u001b[1;33m]\u001b[0m\u001b[1;33m\u001b[0m\u001b[1;33m\u001b[0m\u001b[0m\n\u001b[1;32m-> 5465\u001b[1;33m             \u001b[1;32mreturn\u001b[0m \u001b[0mobject\u001b[0m\u001b[1;33m.\u001b[0m\u001b[0m__getattribute__\u001b[0m\u001b[1;33m(\u001b[0m\u001b[0mself\u001b[0m\u001b[1;33m,\u001b[0m \u001b[0mname\u001b[0m\u001b[1;33m)\u001b[0m\u001b[1;33m\u001b[0m\u001b[1;33m\u001b[0m\u001b[0m\n\u001b[0m\u001b[0;32m   5466\u001b[0m \u001b[1;33m\u001b[0m\u001b[0m\n\u001b[0;32m   5467\u001b[0m     \u001b[1;32mdef\u001b[0m \u001b[0m__setattr__\u001b[0m\u001b[1;33m(\u001b[0m\u001b[0mself\u001b[0m\u001b[1;33m,\u001b[0m \u001b[0mname\u001b[0m\u001b[1;33m:\u001b[0m \u001b[0mstr\u001b[0m\u001b[1;33m,\u001b[0m \u001b[0mvalue\u001b[0m\u001b[1;33m)\u001b[0m \u001b[1;33m->\u001b[0m \u001b[1;32mNone\u001b[0m\u001b[1;33m:\u001b[0m\u001b[1;33m\u001b[0m\u001b[1;33m\u001b[0m\u001b[0m\n",
      "\u001b[1;31mAttributeError\u001b[0m: 'DataFrame' object has no attribute 'strip'"
     ]
    }
   ],
   "source": [
    "print(df_day[:1].strip())"
   ]
  },
  {
   "cell_type": "code",
   "execution_count": 16,
   "id": "0ede0829-b531-4545-890b-67dba241f3fa",
   "metadata": {},
   "outputs": [
    {
     "ename": "AttributeError",
     "evalue": "'DataFrame' object has no attribute 'dtype'",
     "output_type": "error",
     "traceback": [
      "\u001b[1;31m---------------------------------------------------------------------------\u001b[0m",
      "\u001b[1;31mAttributeError\u001b[0m                            Traceback (most recent call last)",
      "\u001b[1;32m<ipython-input-16-b959c06452a1>\u001b[0m in \u001b[0;36m<module>\u001b[1;34m\u001b[0m\n\u001b[1;32m----> 1\u001b[1;33m \u001b[0mdf\u001b[0m\u001b[1;33m.\u001b[0m\u001b[0mdtype\u001b[0m\u001b[1;33m\u001b[0m\u001b[1;33m\u001b[0m\u001b[0m\n\u001b[0m",
      "\u001b[1;32m~\\anaconda3\\envs\\AnalyzeTemperature\\lib\\site-packages\\pandas\\core\\generic.py\u001b[0m in \u001b[0;36m__getattr__\u001b[1;34m(self, name)\u001b[0m\n\u001b[0;32m   5463\u001b[0m             \u001b[1;32mif\u001b[0m \u001b[0mself\u001b[0m\u001b[1;33m.\u001b[0m\u001b[0m_info_axis\u001b[0m\u001b[1;33m.\u001b[0m\u001b[0m_can_hold_identifiers_and_holds_name\u001b[0m\u001b[1;33m(\u001b[0m\u001b[0mname\u001b[0m\u001b[1;33m)\u001b[0m\u001b[1;33m:\u001b[0m\u001b[1;33m\u001b[0m\u001b[1;33m\u001b[0m\u001b[0m\n\u001b[0;32m   5464\u001b[0m                 \u001b[1;32mreturn\u001b[0m \u001b[0mself\u001b[0m\u001b[1;33m[\u001b[0m\u001b[0mname\u001b[0m\u001b[1;33m]\u001b[0m\u001b[1;33m\u001b[0m\u001b[1;33m\u001b[0m\u001b[0m\n\u001b[1;32m-> 5465\u001b[1;33m             \u001b[1;32mreturn\u001b[0m \u001b[0mobject\u001b[0m\u001b[1;33m.\u001b[0m\u001b[0m__getattribute__\u001b[0m\u001b[1;33m(\u001b[0m\u001b[0mself\u001b[0m\u001b[1;33m,\u001b[0m \u001b[0mname\u001b[0m\u001b[1;33m)\u001b[0m\u001b[1;33m\u001b[0m\u001b[1;33m\u001b[0m\u001b[0m\n\u001b[0m\u001b[0;32m   5466\u001b[0m \u001b[1;33m\u001b[0m\u001b[0m\n\u001b[0;32m   5467\u001b[0m     \u001b[1;32mdef\u001b[0m \u001b[0m__setattr__\u001b[0m\u001b[1;33m(\u001b[0m\u001b[0mself\u001b[0m\u001b[1;33m,\u001b[0m \u001b[0mname\u001b[0m\u001b[1;33m:\u001b[0m \u001b[0mstr\u001b[0m\u001b[1;33m,\u001b[0m \u001b[0mvalue\u001b[0m\u001b[1;33m)\u001b[0m \u001b[1;33m->\u001b[0m \u001b[1;32mNone\u001b[0m\u001b[1;33m:\u001b[0m\u001b[1;33m\u001b[0m\u001b[1;33m\u001b[0m\u001b[0m\n",
      "\u001b[1;31mAttributeError\u001b[0m: 'DataFrame' object has no attribute 'dtype'"
     ]
    }
   ],
   "source": [
    "df.dtype"
   ]
  },
  {
   "cell_type": "code",
   "execution_count": 17,
   "id": "2d24afb4-f536-4601-8bf4-d327d946aaee",
   "metadata": {},
   "outputs": [
    {
     "ename": "AttributeError",
     "evalue": "'DataFrame' object has no attribute 'dtype'",
     "output_type": "error",
     "traceback": [
      "\u001b[1;31m---------------------------------------------------------------------------\u001b[0m",
      "\u001b[1;31mAttributeError\u001b[0m                            Traceback (most recent call last)",
      "\u001b[1;32m<ipython-input-17-fd07d2f7a871>\u001b[0m in \u001b[0;36m<module>\u001b[1;34m\u001b[0m\n\u001b[1;32m----> 1\u001b[1;33m \u001b[0mdf_day\u001b[0m\u001b[1;33m.\u001b[0m\u001b[0mdtype\u001b[0m\u001b[1;33m\u001b[0m\u001b[1;33m\u001b[0m\u001b[0m\n\u001b[0m",
      "\u001b[1;32m~\\anaconda3\\envs\\AnalyzeTemperature\\lib\\site-packages\\pandas\\core\\generic.py\u001b[0m in \u001b[0;36m__getattr__\u001b[1;34m(self, name)\u001b[0m\n\u001b[0;32m   5463\u001b[0m             \u001b[1;32mif\u001b[0m \u001b[0mself\u001b[0m\u001b[1;33m.\u001b[0m\u001b[0m_info_axis\u001b[0m\u001b[1;33m.\u001b[0m\u001b[0m_can_hold_identifiers_and_holds_name\u001b[0m\u001b[1;33m(\u001b[0m\u001b[0mname\u001b[0m\u001b[1;33m)\u001b[0m\u001b[1;33m:\u001b[0m\u001b[1;33m\u001b[0m\u001b[1;33m\u001b[0m\u001b[0m\n\u001b[0;32m   5464\u001b[0m                 \u001b[1;32mreturn\u001b[0m \u001b[0mself\u001b[0m\u001b[1;33m[\u001b[0m\u001b[0mname\u001b[0m\u001b[1;33m]\u001b[0m\u001b[1;33m\u001b[0m\u001b[1;33m\u001b[0m\u001b[0m\n\u001b[1;32m-> 5465\u001b[1;33m             \u001b[1;32mreturn\u001b[0m \u001b[0mobject\u001b[0m\u001b[1;33m.\u001b[0m\u001b[0m__getattribute__\u001b[0m\u001b[1;33m(\u001b[0m\u001b[0mself\u001b[0m\u001b[1;33m,\u001b[0m \u001b[0mname\u001b[0m\u001b[1;33m)\u001b[0m\u001b[1;33m\u001b[0m\u001b[1;33m\u001b[0m\u001b[0m\n\u001b[0m\u001b[0;32m   5466\u001b[0m \u001b[1;33m\u001b[0m\u001b[0m\n\u001b[0;32m   5467\u001b[0m     \u001b[1;32mdef\u001b[0m \u001b[0m__setattr__\u001b[0m\u001b[1;33m(\u001b[0m\u001b[0mself\u001b[0m\u001b[1;33m,\u001b[0m \u001b[0mname\u001b[0m\u001b[1;33m:\u001b[0m \u001b[0mstr\u001b[0m\u001b[1;33m,\u001b[0m \u001b[0mvalue\u001b[0m\u001b[1;33m)\u001b[0m \u001b[1;33m->\u001b[0m \u001b[1;32mNone\u001b[0m\u001b[1;33m:\u001b[0m\u001b[1;33m\u001b[0m\u001b[1;33m\u001b[0m\u001b[0m\n",
      "\u001b[1;31mAttributeError\u001b[0m: 'DataFrame' object has no attribute 'dtype'"
     ]
    }
   ],
   "source": [
    "df_day.dtype"
   ]
  },
  {
   "cell_type": "code",
   "execution_count": 18,
   "id": "e07a0390-ecbe-41da-a385-154ed05d154a",
   "metadata": {},
   "outputs": [
    {
     "data": {
      "text/html": [
       "<div>\n",
       "<style scoped>\n",
       "    .dataframe tbody tr th:only-of-type {\n",
       "        vertical-align: middle;\n",
       "    }\n",
       "\n",
       "    .dataframe tbody tr th {\n",
       "        vertical-align: top;\n",
       "    }\n",
       "\n",
       "    .dataframe thead th {\n",
       "        text-align: right;\n",
       "    }\n",
       "</style>\n",
       "<table border=\"1\" class=\"dataframe\">\n",
       "  <thead>\n",
       "    <tr style=\"text-align: right;\">\n",
       "      <th></th>\n",
       "      <th>Temperature</th>\n",
       "    </tr>\n",
       "  </thead>\n",
       "  <tbody>\n",
       "    <tr>\n",
       "      <th>0</th>\n",
       "      <td>[&lt;td class=\"data_0_0\"&gt;11.7&lt;/td&gt;]</td>\n",
       "    </tr>\n",
       "    <tr>\n",
       "      <th>1</th>\n",
       "      <td>[&lt;td class=\"data_0_0\"&gt;16.7&lt;/td&gt;]</td>\n",
       "    </tr>\n",
       "    <tr>\n",
       "      <th>2</th>\n",
       "      <td>[&lt;td class=\"data_0_0\"&gt;19.3&lt;/td&gt;]</td>\n",
       "    </tr>\n",
       "    <tr>\n",
       "      <th>3</th>\n",
       "      <td>[&lt;td class=\"data_0_0\"&gt;12.3&lt;/td&gt;]</td>\n",
       "    </tr>\n",
       "    <tr>\n",
       "      <th>4</th>\n",
       "      <td>[&lt;td class=\"data_0_0\"&gt;9.1&lt;/td&gt;]</td>\n",
       "    </tr>\n",
       "    <tr>\n",
       "      <th>...</th>\n",
       "      <td>...</td>\n",
       "    </tr>\n",
       "    <tr>\n",
       "      <th>115</th>\n",
       "      <td>[&lt;td class=\"data_0_0\"&gt;12.2&lt;/td&gt;]</td>\n",
       "    </tr>\n",
       "    <tr>\n",
       "      <th>116</th>\n",
       "      <td>[&lt;td class=\"data_0_0\"&gt;17.6&lt;/td&gt;]</td>\n",
       "    </tr>\n",
       "    <tr>\n",
       "      <th>117</th>\n",
       "      <td>[&lt;td class=\"data_0_0\"&gt;18.6&lt;/td&gt;]</td>\n",
       "    </tr>\n",
       "    <tr>\n",
       "      <th>118</th>\n",
       "      <td>[&lt;td class=\"data_0_0\"&gt;15.0&lt;/td&gt;]</td>\n",
       "    </tr>\n",
       "    <tr>\n",
       "      <th>119</th>\n",
       "      <td>[&lt;td class=\"data_0_0\"&gt;13.2&lt;/td&gt;]</td>\n",
       "    </tr>\n",
       "  </tbody>\n",
       "</table>\n",
       "<p>120 rows × 1 columns</p>\n",
       "</div>"
      ],
      "text/plain": [
       "                          Temperature\n",
       "0    [<td class=\"data_0_0\">11.7</td>]\n",
       "1    [<td class=\"data_0_0\">16.7</td>]\n",
       "2    [<td class=\"data_0_0\">19.3</td>]\n",
       "3    [<td class=\"data_0_0\">12.3</td>]\n",
       "4     [<td class=\"data_0_0\">9.1</td>]\n",
       "..                                ...\n",
       "115  [<td class=\"data_0_0\">12.2</td>]\n",
       "116  [<td class=\"data_0_0\">17.6</td>]\n",
       "117  [<td class=\"data_0_0\">18.6</td>]\n",
       "118  [<td class=\"data_0_0\">15.0</td>]\n",
       "119  [<td class=\"data_0_0\">13.2</td>]\n",
       "\n",
       "[120 rows x 1 columns]"
      ]
     },
     "execution_count": 18,
     "metadata": {},
     "output_type": "execute_result"
    }
   ],
   "source": [
    "df_day.astype(str)"
   ]
  },
  {
   "cell_type": "code",
   "execution_count": 19,
   "id": "82991894-e5e6-4d8a-8a95-0cb8168b9e7c",
   "metadata": {},
   "outputs": [
    {
     "name": "stdout",
     "output_type": "stream",
     "text": [
      "<class 'pandas.core.frame.DataFrame'>\n"
     ]
    }
   ],
   "source": [
    "print(type(df_day))"
   ]
  },
  {
   "cell_type": "code",
   "execution_count": 20,
   "id": "9205fe6c-e431-47b6-b2c9-4f0a089234e0",
   "metadata": {},
   "outputs": [
    {
     "name": "stdout",
     "output_type": "stream",
     "text": [
      "<class 'pandas.core.frame.DataFrame'>\n"
     ]
    }
   ],
   "source": [
    "print(type(df_day.astype(str)))"
   ]
  },
  {
   "cell_type": "code",
   "execution_count": 21,
   "id": "8248322f-7efb-4552-b27f-29c4f0a65bb2",
   "metadata": {},
   "outputs": [],
   "source": [
    "import csv\n",
    "f = open('morioka_temperature.csv', 'r')"
   ]
  },
  {
   "cell_type": "code",
   "execution_count": 22,
   "id": "060e4254-2107-4304-86d7-5acb19cbf2b2",
   "metadata": {},
   "outputs": [
    {
     "data": {
      "text/plain": [
       "str"
      ]
     },
     "execution_count": 22,
     "metadata": {},
     "output_type": "execute_result"
    }
   ],
   "source": [
    "type(f.readline())"
   ]
  },
  {
   "cell_type": "code",
   "execution_count": 23,
   "id": "7660cbfc-3213-4bc8-9d11-d3b88355b63f",
   "metadata": {},
   "outputs": [
    {
     "data": {
      "text/plain": [
       "'2018,\"[<a href=\"\"hourly_s1.php?prec_no=33&amp;block_no=47584&amp;year=2018&amp;month=04&amp;day=1&amp;view=p1\"\">1</a>]\",\"[<td class=\"\"data_0_0\"\">11.7</td>]\"\\n'"
      ]
     },
     "execution_count": 23,
     "metadata": {},
     "output_type": "execute_result"
    }
   ],
   "source": [
    "f.readline()"
   ]
  },
  {
   "cell_type": "code",
   "execution_count": 24,
   "id": "b6e48343-d759-499e-aa35-71c979115939",
   "metadata": {},
   "outputs": [
    {
     "data": {
      "text/plain": [
       "'2018,\"[<a href=\"\"hourly_s1.php?prec_no=33&amp;block_no=47584&amp;year=2018&amp;month=04&amp;day=2&amp;view=p1\"\">2</a>]\",\"[<td class=\"\"data_0_0\"\">16.7</td>]\"\\n'"
      ]
     },
     "execution_count": 24,
     "metadata": {},
     "output_type": "execute_result"
    }
   ],
   "source": [
    "f.readline()"
   ]
  },
  {
   "cell_type": "code",
   "execution_count": 25,
   "id": "c34e0044-ff7c-46e8-ad74-14ec8119824d",
   "metadata": {},
   "outputs": [
    {
     "data": {
      "text/plain": [
       "<_io.TextIOWrapper name='morioka_temperature.csv' mode='r' encoding='cp932'>"
      ]
     },
     "execution_count": 25,
     "metadata": {},
     "output_type": "execute_result"
    }
   ],
   "source": [
    "f"
   ]
  },
  {
   "cell_type": "code",
   "execution_count": 26,
   "id": "5f5b28ac-3d96-48e4-ad63-e24f7c03195c",
   "metadata": {},
   "outputs": [
    {
     "data": {
      "text/plain": [
       "0"
      ]
     },
     "execution_count": 26,
     "metadata": {},
     "output_type": "execute_result"
    }
   ],
   "source": [
    "f.seek(0)"
   ]
  },
  {
   "cell_type": "code",
   "execution_count": 27,
   "id": "f318416e-e02c-47e6-b614-6eb05072672d",
   "metadata": {},
   "outputs": [
    {
     "data": {
      "text/plain": [
       "'Year,Day,Temperature\\n'"
      ]
     },
     "execution_count": 27,
     "metadata": {},
     "output_type": "execute_result"
    }
   ],
   "source": [
    "f.readline()"
   ]
  },
  {
   "cell_type": "code",
   "execution_count": 28,
   "id": "f1ea2a94-b15e-4f13-bad4-99d57c74b4d6",
   "metadata": {},
   "outputs": [
    {
     "data": {
      "text/plain": [
       "'2018,\"[<a href=\"\"hourly_s1.php?prec_no=33&amp;block_no=47584&amp;year=2018&amp;month=04&amp;day=1&amp;view=p1\"\">1</a>]\",\"[<td class=\"\"data_0_0\"\">11.7</td>]\"\\n'"
      ]
     },
     "execution_count": 28,
     "metadata": {},
     "output_type": "execute_result"
    }
   ],
   "source": [
    "f.readline()"
   ]
  },
  {
   "cell_type": "code",
   "execution_count": 29,
   "id": "43adc8f7-71f6-4597-b852-44f6e8f6a7b0",
   "metadata": {},
   "outputs": [
    {
     "data": {
      "text/plain": [
       "1"
      ]
     },
     "execution_count": 29,
     "metadata": {},
     "output_type": "execute_result"
    }
   ],
   "source": [
    "f.seek(1)"
   ]
  },
  {
   "cell_type": "code",
   "execution_count": 30,
   "id": "c6d37755-8704-478b-9ef1-69e0aa4fe98f",
   "metadata": {},
   "outputs": [
    {
     "data": {
      "text/plain": [
       "'ear,Day,Temperature\\n'"
      ]
     },
     "execution_count": 30,
     "metadata": {},
     "output_type": "execute_result"
    }
   ],
   "source": [
    "f.readline()"
   ]
  },
  {
   "cell_type": "code",
   "execution_count": 31,
   "id": "7ada011e-da75-4303-89d3-de3bfc267427",
   "metadata": {},
   "outputs": [
    {
     "data": {
      "text/plain": [
       "'2018,\"[<a href=\"\"hourly_s1.php?prec_no=33&amp;block_no=47584&amp;year=2018&amp;month=04&amp;day=1&amp;view=p1\"\">1</a>]\",\"[<td class=\"\"data_0_0\"\">11.7</td>]\"\\n'"
      ]
     },
     "execution_count": 31,
     "metadata": {},
     "output_type": "execute_result"
    }
   ],
   "source": [
    "f.readline()"
   ]
  },
  {
   "cell_type": "code",
   "execution_count": 32,
   "id": "7d7de3d5-3374-48dd-862e-cd3ec79f047a",
   "metadata": {},
   "outputs": [
    {
     "data": {
      "text/plain": [
       "0"
      ]
     },
     "execution_count": 32,
     "metadata": {},
     "output_type": "execute_result"
    }
   ],
   "source": [
    "f.seek(0)"
   ]
  },
  {
   "cell_type": "code",
   "execution_count": 33,
   "id": "6823acec-1dd1-459b-86e3-d35d6a9c0bb9",
   "metadata": {},
   "outputs": [
    {
     "ename": "AttributeError",
     "evalue": "module 'csv' has no attribute 'read'",
     "output_type": "error",
     "traceback": [
      "\u001b[1;31m---------------------------------------------------------------------------\u001b[0m",
      "\u001b[1;31mAttributeError\u001b[0m                            Traceback (most recent call last)",
      "\u001b[1;32m<ipython-input-33-8d978fb68bda>\u001b[0m in \u001b[0;36m<module>\u001b[1;34m\u001b[0m\n\u001b[1;32m----> 1\u001b[1;33m \u001b[0mcsv\u001b[0m\u001b[1;33m.\u001b[0m\u001b[0mread\u001b[0m\u001b[1;33m(\u001b[0m\u001b[1;33m)\u001b[0m\u001b[1;33m\u001b[0m\u001b[1;33m\u001b[0m\u001b[0m\n\u001b[0m",
      "\u001b[1;31mAttributeError\u001b[0m: module 'csv' has no attribute 'read'"
     ]
    }
   ],
   "source": [
    "csv.read()"
   ]
  },
  {
   "cell_type": "code",
   "execution_count": 34,
   "id": "8d57a666-14ff-4847-b825-37144fbdc019",
   "metadata": {},
   "outputs": [],
   "source": [
    "f = csv.reader(f)"
   ]
  },
  {
   "cell_type": "code",
   "execution_count": 35,
   "id": "fb8be0d7-f0f9-4fe6-a99d-23f9f8b282e6",
   "metadata": {},
   "outputs": [
    {
     "name": "stdout",
     "output_type": "stream",
     "text": [
      "<_csv.reader object at 0x000002B54BFF2820>\n"
     ]
    }
   ],
   "source": [
    "print(f)"
   ]
  },
  {
   "cell_type": "code",
   "execution_count": 36,
   "id": "28dc88b4-07c6-4911-9da7-c1cc88ea0382",
   "metadata": {},
   "outputs": [],
   "source": [
    "f = [row for row in f]"
   ]
  },
  {
   "cell_type": "code",
   "execution_count": 37,
   "id": "a766aa6c-e65c-42d7-bf4b-afa4bc506b35",
   "metadata": {},
   "outputs": [
    {
     "name": "stdout",
     "output_type": "stream",
     "text": [
      "[['Year', 'Day', 'Temperature'], ['2018', '[<a href=\"hourly_s1.php?prec_no=33&amp;block_no=47584&amp;year=2018&amp;month=04&amp;day=1&amp;view=p1\">1</a>]', '[<td class=\"data_0_0\">11.7</td>]'], ['2018', '[<a href=\"hourly_s1.php?prec_no=33&amp;block_no=47584&amp;year=2018&amp;month=04&amp;day=2&amp;view=p1\">2</a>]', '[<td class=\"data_0_0\">16.7</td>]'], ['2018', '[<a href=\"hourly_s1.php?prec_no=33&amp;block_no=47584&amp;year=2018&amp;month=04&amp;day=3&amp;view=p1\">3</a>]', '[<td class=\"data_0_0\">19.3</td>]'], ['2018', '[<a href=\"hourly_s1.php?prec_no=33&amp;block_no=47584&amp;year=2018&amp;month=04&amp;day=4&amp;view=p1\">4</a>]', '[<td class=\"data_0_0\">12.3</td>]'], ['2018', '[<a href=\"hourly_s1.php?prec_no=33&amp;block_no=47584&amp;year=2018&amp;month=04&amp;day=5&amp;view=p1\">5</a>]', '[<td class=\"data_0_0\">9.1</td>]'], ['2018', '[<a href=\"hourly_s1.php?prec_no=33&amp;block_no=47584&amp;year=2018&amp;month=04&amp;day=6&amp;view=p1\">6</a>]', '[<td class=\"data_0_0\">4.3</td>]'], ['2018', '[<a href=\"hourly_s1.php?prec_no=33&amp;block_no=47584&amp;year=2018&amp;month=04&amp;day=7&amp;view=p1\">7</a>]', '[<td class=\"data_0_0\">10.4</td>]'], ['2018', '[<a href=\"hourly_s1.php?prec_no=33&amp;block_no=47584&amp;year=2018&amp;month=04&amp;day=8&amp;view=p1\">8</a>]', '[<td class=\"data_0_0\">9.0</td>]'], ['2018', '[<a href=\"hourly_s1.php?prec_no=33&amp;block_no=47584&amp;year=2018&amp;month=04&amp;day=9&amp;view=p1\">9</a>]', '[<td class=\"data_0_0\">6.9</td>]'], ['2018', '[<a href=\"hourly_s1.php?prec_no=33&amp;block_no=47584&amp;year=2018&amp;month=04&amp;day=10&amp;view=p1\">10</a>]', '[<td class=\"data_0_0\">12.3</td>]'], ['2018', '[<a href=\"hourly_s1.php?prec_no=33&amp;block_no=47584&amp;year=2018&amp;month=04&amp;day=11&amp;view=p1\">11</a>]', '[<td class=\"data_0_0\">14.6</td>]'], ['2018', '[<a href=\"hourly_s1.php?prec_no=33&amp;block_no=47584&amp;year=2018&amp;month=04&amp;day=12&amp;view=p1\">12</a>]', '[<td class=\"data_0_0\">17.1</td>]'], ['2018', '[<a href=\"hourly_s1.php?prec_no=33&amp;block_no=47584&amp;year=2018&amp;month=04&amp;day=13&amp;view=p1\">13</a>]', '[<td class=\"data_0_0\">13.4</td>]'], ['2018', '[<a href=\"hourly_s1.php?prec_no=33&amp;block_no=47584&amp;year=2018&amp;month=04&amp;day=14&amp;view=p1\">14</a>]', '[<td class=\"data_0_0\">10.7</td>]'], ['2018', '[<a href=\"hourly_s1.php?prec_no=33&amp;block_no=47584&amp;year=2018&amp;month=04&amp;day=15&amp;view=p1\">15</a>]', '[<td class=\"data_0_0\">14.2</td>]'], ['2018', '[<a href=\"hourly_s1.php?prec_no=33&amp;block_no=47584&amp;year=2018&amp;month=04&amp;day=16&amp;view=p1\">16</a>]', '[<td class=\"data_0_0\">11.6</td>]'], ['2018', '[<a href=\"hourly_s1.php?prec_no=33&amp;block_no=47584&amp;year=2018&amp;month=04&amp;day=17&amp;view=p1\">17</a>]', '[<td class=\"data_0_0\">15.7</td>]'], ['2018', '[<a href=\"hourly_s1.php?prec_no=33&amp;block_no=47584&amp;year=2018&amp;month=04&amp;day=18&amp;view=p1\">18</a>]', '[<td class=\"data_0_0\">16.4</td>]'], ['2018', '[<a href=\"hourly_s1.php?prec_no=33&amp;block_no=47584&amp;year=2018&amp;month=04&amp;day=19&amp;view=p1\">19</a>]', '[<td class=\"data_0_0\">20.8</td>]'], ['2018', '[<a href=\"hourly_s1.php?prec_no=33&amp;block_no=47584&amp;year=2018&amp;month=04&amp;day=20&amp;view=p1\">20</a>]', '[<td class=\"data_0_0\">19.9</td>]'], ['2018', '[<a href=\"hourly_s1.php?prec_no=33&amp;block_no=47584&amp;year=2018&amp;month=04&amp;day=21&amp;view=p1\">21</a>]', '[<td class=\"data_0_0\">25.8</td>]'], ['2018', '[<a href=\"hourly_s1.php?prec_no=33&amp;block_no=47584&amp;year=2018&amp;month=04&amp;day=22&amp;view=p1\">22</a>]', '[<td class=\"data_0_0\">23.2</td>]'], ['2018', '[<a href=\"hourly_s1.php?prec_no=33&amp;block_no=47584&amp;year=2018&amp;month=04&amp;day=23&amp;view=p1\">23</a>]', '[<td class=\"data_0_0\">14.4</td>]'], ['2018', '[<a href=\"hourly_s1.php?prec_no=33&amp;block_no=47584&amp;year=2018&amp;month=04&amp;day=24&amp;view=p1\">24</a>]', '[<td class=\"data_0_0\">12.7</td>]'], ['2018', '[<a href=\"hourly_s1.php?prec_no=33&amp;block_no=47584&amp;year=2018&amp;month=04&amp;day=25&amp;view=p1\">25</a>]', '[<td class=\"data_0_0\">9.4</td>]'], ['2018', '[<a href=\"hourly_s1.php?prec_no=33&amp;block_no=47584&amp;year=2018&amp;month=04&amp;day=26&amp;view=p1\">26</a>]', '[<td class=\"data_0_0\">15.6</td>]'], ['2018', '[<a href=\"hourly_s1.php?prec_no=33&amp;block_no=47584&amp;year=2018&amp;month=04&amp;day=27&amp;view=p1\">27</a>]', '[<td class=\"data_0_0\">20.6</td>]'], ['2018', '[<a href=\"hourly_s1.php?prec_no=33&amp;block_no=47584&amp;year=2018&amp;month=04&amp;day=28&amp;view=p1\">28</a>]', '[<td class=\"data_0_0\">17.8</td>]'], ['2018', '[<a href=\"hourly_s1.php?prec_no=33&amp;block_no=47584&amp;year=2018&amp;month=04&amp;day=29&amp;view=p1\">29</a>]', '[<td class=\"data_0_0\">26.3</td>]'], ['2018', '[<a href=\"hourly_s1.php?prec_no=33&amp;block_no=47584&amp;year=2018&amp;month=04&amp;day=30&amp;view=p1\">30</a>]', '[<td class=\"data_0_0\">25.9</td>]'], ['2019', '[<a href=\"hourly_s1.php?prec_no=33&amp;block_no=47584&amp;year=2019&amp;month=04&amp;day=1&amp;view=p1\">1</a>]', '[<td class=\"data_0_0\">4.6</td>]'], ['2019', '[<a href=\"hourly_s1.php?prec_no=33&amp;block_no=47584&amp;year=2019&amp;month=04&amp;day=2&amp;view=p1\">2</a>]', '[<td class=\"data_0_0\">3.6</td>]'], ['2019', '[<a href=\"hourly_s1.php?prec_no=33&amp;block_no=47584&amp;year=2019&amp;month=04&amp;day=3&amp;view=p1\">3</a>]', '[<td class=\"data_0_0\">5.2</td>]'], ['2019', '[<a href=\"hourly_s1.php?prec_no=33&amp;block_no=47584&amp;year=2019&amp;month=04&amp;day=4&amp;view=p1\">4</a>]', '[<td class=\"data_0_0\">9.1</td>]'], ['2019', '[<a href=\"hourly_s1.php?prec_no=33&amp;block_no=47584&amp;year=2019&amp;month=04&amp;day=5&amp;view=p1\">5</a>]', '[<td class=\"data_0_0\">14.5</td>]'], ['2019', '[<a href=\"hourly_s1.php?prec_no=33&amp;block_no=47584&amp;year=2019&amp;month=04&amp;day=6&amp;view=p1\">6</a>]', '[<td class=\"data_0_0\">9.5</td>]'], ['2019', '[<a href=\"hourly_s1.php?prec_no=33&amp;block_no=47584&amp;year=2019&amp;month=04&amp;day=7&amp;view=p1\">7</a>]', '[<td class=\"data_0_0\">11.7</td>]'], ['2019', '[<a href=\"hourly_s1.php?prec_no=33&amp;block_no=47584&amp;year=2019&amp;month=04&amp;day=8&amp;view=p1\">8</a>]', '[<td class=\"data_0_0\">12.0</td>]'], ['2019', '[<a href=\"hourly_s1.php?prec_no=33&amp;block_no=47584&amp;year=2019&amp;month=04&amp;day=9&amp;view=p1\">9</a>]', '[<td class=\"data_0_0\">10.8</td>]'], ['2019', '[<a href=\"hourly_s1.php?prec_no=33&amp;block_no=47584&amp;year=2019&amp;month=04&amp;day=10&amp;view=p1\">10</a>]', '[<td class=\"data_0_0\">11.3</td>]'], ['2019', '[<a href=\"hourly_s1.php?prec_no=33&amp;block_no=47584&amp;year=2019&amp;month=04&amp;day=11&amp;view=p1\">11</a>]', '[<td class=\"data_0_0\">10.3</td>]'], ['2019', '[<a href=\"hourly_s1.php?prec_no=33&amp;block_no=47584&amp;year=2019&amp;month=04&amp;day=12&amp;view=p1\">12</a>]', '[<td class=\"data_0_0\">12.9</td>]'], ['2019', '[<a href=\"hourly_s1.php?prec_no=33&amp;block_no=47584&amp;year=2019&amp;month=04&amp;day=13&amp;view=p1\">13</a>]', '[<td class=\"data_0_0\">14.4</td>]'], ['2019', '[<a href=\"hourly_s1.php?prec_no=33&amp;block_no=47584&amp;year=2019&amp;month=04&amp;day=14&amp;view=p1\">14</a>]', '[<td class=\"data_0_0\">18.5</td>]'], ['2019', '[<a href=\"hourly_s1.php?prec_no=33&amp;block_no=47584&amp;year=2019&amp;month=04&amp;day=15&amp;view=p1\">15</a>]', '[<td class=\"data_0_0\">12.7</td>]'], ['2019', '[<a href=\"hourly_s1.php?prec_no=33&amp;block_no=47584&amp;year=2019&amp;month=04&amp;day=16&amp;view=p1\">16</a>]', '[<td class=\"data_0_0\">15.7</td>]'], ['2019', '[<a href=\"hourly_s1.php?prec_no=33&amp;block_no=47584&amp;year=2019&amp;month=04&amp;day=17&amp;view=p1\">17</a>]', '[<td class=\"data_0_0\">23.3</td>]'], ['2019', '[<a href=\"hourly_s1.php?prec_no=33&amp;block_no=47584&amp;year=2019&amp;month=04&amp;day=18&amp;view=p1\">18</a>]', '[<td class=\"data_0_0\">22.9</td>]'], ['2019', '[<a href=\"hourly_s1.php?prec_no=33&amp;block_no=47584&amp;year=2019&amp;month=04&amp;day=19&amp;view=p1\">19</a>]', '[<td class=\"data_0_0\">16.9</td>]'], ['2019', '[<a href=\"hourly_s1.php?prec_no=33&amp;block_no=47584&amp;year=2019&amp;month=04&amp;day=20&amp;view=p1\">20</a>]', '[<td class=\"data_0_0\">13.6</td>]'], ['2019', '[<a href=\"hourly_s1.php?prec_no=33&amp;block_no=47584&amp;year=2019&amp;month=04&amp;day=21&amp;view=p1\">21</a>]', '[<td class=\"data_0_0\">21.0</td>]'], ['2019', '[<a href=\"hourly_s1.php?prec_no=33&amp;block_no=47584&amp;year=2019&amp;month=04&amp;day=22&amp;view=p1\">22</a>]', '[<td class=\"data_0_0\">20.4</td>]'], ['2019', '[<a href=\"hourly_s1.php?prec_no=33&amp;block_no=47584&amp;year=2019&amp;month=04&amp;day=23&amp;view=p1\">23</a>]', '[<td class=\"data_0_0\">20.9</td>]'], ['2019', '[<a href=\"hourly_s1.php?prec_no=33&amp;block_no=47584&amp;year=2019&amp;month=04&amp;day=24&amp;view=p1\">24</a>]', '[<td class=\"data_0_0\">22.1</td>]'], ['2019', '[<a href=\"hourly_s1.php?prec_no=33&amp;block_no=47584&amp;year=2019&amp;month=04&amp;day=25&amp;view=p1\">25</a>]', '[<td class=\"data_0_0\">20.3</td>]'], ['2019', '[<a href=\"hourly_s1.php?prec_no=33&amp;block_no=47584&amp;year=2019&amp;month=04&amp;day=26&amp;view=p1\">26</a>]', '[<td class=\"data_0_0\">9.1</td>]'], ['2019', '[<a href=\"hourly_s1.php?prec_no=33&amp;block_no=47584&amp;year=2019&amp;month=04&amp;day=27&amp;view=p1\">27</a>]', '[<td class=\"data_0_0\">6.4</td>]'], ['2019', '[<a href=\"hourly_s1.php?prec_no=33&amp;block_no=47584&amp;year=2019&amp;month=04&amp;day=28&amp;view=p1\">28</a>]', '[<td class=\"data_0_0\">15.6</td>]'], ['2019', '[<a href=\"hourly_s1.php?prec_no=33&amp;block_no=47584&amp;year=2019&amp;month=04&amp;day=29&amp;view=p1\">29</a>]', '[<td class=\"data_0_0\">19.8</td>]'], ['2019', '[<a href=\"hourly_s1.php?prec_no=33&amp;block_no=47584&amp;year=2019&amp;month=04&amp;day=30&amp;view=p1\">30</a>]', '[<td class=\"data_0_0\">12.9</td>]'], ['2020', '[<a href=\"hourly_s1.php?prec_no=33&amp;block_no=47584&amp;year=2020&amp;month=04&amp;day=1&amp;view=p1\">1</a>]', '[<td class=\"data_0_0\">13.1</td>]'], ['2020', '[<a href=\"hourly_s1.php?prec_no=33&amp;block_no=47584&amp;year=2020&amp;month=04&amp;day=2&amp;view=p1\">2</a>]', '[<td class=\"data_0_0\">9.6</td>]'], ['2020', '[<a href=\"hourly_s1.php?prec_no=33&amp;block_no=47584&amp;year=2020&amp;month=04&amp;day=3&amp;view=p1\">3</a>]', '[<td class=\"data_0_0\">14.6</td>]'], ['2020', '[<a href=\"hourly_s1.php?prec_no=33&amp;block_no=47584&amp;year=2020&amp;month=04&amp;day=4&amp;view=p1\">4</a>]', '[<td class=\"data_0_0\">18.0</td>]'], ['2020', '[<a href=\"hourly_s1.php?prec_no=33&amp;block_no=47584&amp;year=2020&amp;month=04&amp;day=5&amp;view=p1\">5</a>]', '[<td class=\"data_0_0\">6.8</td>]'], ['2020', '[<a href=\"hourly_s1.php?prec_no=33&amp;block_no=47584&amp;year=2020&amp;month=04&amp;day=6&amp;view=p1\">6</a>]', '[<td class=\"data_0_0\">6.5</td>]'], ['2020', '[<a href=\"hourly_s1.php?prec_no=33&amp;block_no=47584&amp;year=2020&amp;month=04&amp;day=7&amp;view=p1\">7</a>]', '[<td class=\"data_0_0\">11.8</td>]'], ['2020', '[<a href=\"hourly_s1.php?prec_no=33&amp;block_no=47584&amp;year=2020&amp;month=04&amp;day=8&amp;view=p1\">8</a>]', '[<td class=\"data_0_0\">16.7</td>]'], ['2020', '[<a href=\"hourly_s1.php?prec_no=33&amp;block_no=47584&amp;year=2020&amp;month=04&amp;day=9&amp;view=p1\">9</a>]', '[<td class=\"data_0_0\">10.4</td>]'], ['2020', '[<a href=\"hourly_s1.php?prec_no=33&amp;block_no=47584&amp;year=2020&amp;month=04&amp;day=10&amp;view=p1\">10</a>]', '[<td class=\"data_0_0\">8.2</td>]'], ['2020', '[<a href=\"hourly_s1.php?prec_no=33&amp;block_no=47584&amp;year=2020&amp;month=04&amp;day=11&amp;view=p1\">11</a>]', '[<td class=\"data_0_0\">12.0</td>]'], ['2020', '[<a href=\"hourly_s1.php?prec_no=33&amp;block_no=47584&amp;year=2020&amp;month=04&amp;day=12&amp;view=p1\">12</a>]', '[<td class=\"data_0_0\">13.6</td>]'], ['2020', '[<a href=\"hourly_s1.php?prec_no=33&amp;block_no=47584&amp;year=2020&amp;month=04&amp;day=13&amp;view=p1\">13</a>]', '[<td class=\"data_0_0\">9.6</td>]'], ['2020', '[<a href=\"hourly_s1.php?prec_no=33&amp;block_no=47584&amp;year=2020&amp;month=04&amp;day=14&amp;view=p1\">14</a>]', '[<td class=\"data_0_0\">12.8</td>]'], ['2020', '[<a href=\"hourly_s1.php?prec_no=33&amp;block_no=47584&amp;year=2020&amp;month=04&amp;day=15&amp;view=p1\">15</a>]', '[<td class=\"data_0_0\">13.1</td>]'], ['2020', '[<a href=\"hourly_s1.php?prec_no=33&amp;block_no=47584&amp;year=2020&amp;month=04&amp;day=16&amp;view=p1\">16</a>]', '[<td class=\"data_0_0\">12.1</td>]'], ['2020', '[<a href=\"hourly_s1.php?prec_no=33&amp;block_no=47584&amp;year=2020&amp;month=04&amp;day=17&amp;view=p1\">17</a>]', '[<td class=\"data_0_0\">15.4 )</td>]'], ['2020', '[<a href=\"hourly_s1.php?prec_no=33&amp;block_no=47584&amp;year=2020&amp;month=04&amp;day=18&amp;view=p1\">18</a>]', '[<td class=\"data_0_0\">9.2</td>]'], ['2020', '[<a href=\"hourly_s1.php?prec_no=33&amp;block_no=47584&amp;year=2020&amp;month=04&amp;day=19&amp;view=p1\">19</a>]', '[<td class=\"data_0_0\">14.0</td>]'], ['2020', '[<a href=\"hourly_s1.php?prec_no=33&amp;block_no=47584&amp;year=2020&amp;month=04&amp;day=20&amp;view=p1\">20</a>]', '[<td class=\"data_0_0\">11.2</td>]'], ['2020', '[<a href=\"hourly_s1.php?prec_no=33&amp;block_no=47584&amp;year=2020&amp;month=04&amp;day=21&amp;view=p1\">21</a>]', '[<td class=\"data_0_0\">12.8</td>]'], ['2020', '[<a href=\"hourly_s1.php?prec_no=33&amp;block_no=47584&amp;year=2020&amp;month=04&amp;day=22&amp;view=p1\">22</a>]', '[<td class=\"data_0_0\">7.0</td>]'], ['2020', '[<a href=\"hourly_s1.php?prec_no=33&amp;block_no=47584&amp;year=2020&amp;month=04&amp;day=23&amp;view=p1\">23</a>]', '[<td class=\"data_0_0\">9.1</td>]'], ['2020', '[<a href=\"hourly_s1.php?prec_no=33&amp;block_no=47584&amp;year=2020&amp;month=04&amp;day=24&amp;view=p1\">24</a>]', '[<td class=\"data_0_0\">9.6</td>]'], ['2020', '[<a href=\"hourly_s1.php?prec_no=33&amp;block_no=47584&amp;year=2020&amp;month=04&amp;day=25&amp;view=p1\">25</a>]', '[<td class=\"data_0_0\">13.7</td>]'], ['2020', '[<a href=\"hourly_s1.php?prec_no=33&amp;block_no=47584&amp;year=2020&amp;month=04&amp;day=26&amp;view=p1\">26</a>]', '[<td class=\"data_0_0\">15.6</td>]'], ['2020', '[<a href=\"hourly_s1.php?prec_no=33&amp;block_no=47584&amp;year=2020&amp;month=04&amp;day=27&amp;view=p1\">27</a>]', '[<td class=\"data_0_0\">12.3</td>]'], ['2020', '[<a href=\"hourly_s1.php?prec_no=33&amp;block_no=47584&amp;year=2020&amp;month=04&amp;day=28&amp;view=p1\">28</a>]', '[<td class=\"data_0_0\">11.7</td>]'], ['2020', '[<a href=\"hourly_s1.php?prec_no=33&amp;block_no=47584&amp;year=2020&amp;month=04&amp;day=29&amp;view=p1\">29</a>]', '[<td class=\"data_0_0\">15.9</td>]'], ['2020', '[<a href=\"hourly_s1.php?prec_no=33&amp;block_no=47584&amp;year=2020&amp;month=04&amp;day=30&amp;view=p1\">30</a>]', '[<td class=\"data_0_0\">19.8</td>]'], ['2021', '[<a href=\"hourly_s1.php?prec_no=33&amp;block_no=47584&amp;year=2021&amp;month=04&amp;day=1&amp;view=p1\">1</a>]', '[<td class=\"data_0_0\">16.3</td>]'], ['2021', '[<a href=\"hourly_s1.php?prec_no=33&amp;block_no=47584&amp;year=2021&amp;month=04&amp;day=2&amp;view=p1\">2</a>]', '[<td class=\"data_0_0\">17.9</td>]'], ['2021', '[<a href=\"hourly_s1.php?prec_no=33&amp;block_no=47584&amp;year=2021&amp;month=04&amp;day=3&amp;view=p1\">3</a>]', '[<td class=\"data_0_0\">19.4</td>]'], ['2021', '[<a href=\"hourly_s1.php?prec_no=33&amp;block_no=47584&amp;year=2021&amp;month=04&amp;day=4&amp;view=p1\">4</a>]', '[<td class=\"data_0_0\">13.5</td>]'], ['2021', '[<a href=\"hourly_s1.php?prec_no=33&amp;block_no=47584&amp;year=2021&amp;month=04&amp;day=5&amp;view=p1\">5</a>]', '[<td class=\"data_0_0\">10.4</td>]'], ['2021', '[<a href=\"hourly_s1.php?prec_no=33&amp;block_no=47584&amp;year=2021&amp;month=04&amp;day=6&amp;view=p1\">6</a>]', '[<td class=\"data_0_0\">12.4</td>]'], ['2021', '[<a href=\"hourly_s1.php?prec_no=33&amp;block_no=47584&amp;year=2021&amp;month=04&amp;day=7&amp;view=p1\">7</a>]', '[<td class=\"data_0_0\">15.8</td>]'], ['2021', '[<a href=\"hourly_s1.php?prec_no=33&amp;block_no=47584&amp;year=2021&amp;month=04&amp;day=8&amp;view=p1\">8</a>]', '[<td class=\"data_0_0\">11.8</td>]'], ['2021', '[<a href=\"hourly_s1.php?prec_no=33&amp;block_no=47584&amp;year=2021&amp;month=04&amp;day=9&amp;view=p1\">9</a>]', '[<td class=\"data_0_0\">7.2</td>]'], ['2021', '[<a href=\"hourly_s1.php?prec_no=33&amp;block_no=47584&amp;year=2021&amp;month=04&amp;day=10&amp;view=p1\">10</a>]', '[<td class=\"data_0_0\">10.7</td>]'], ['2021', '[<a href=\"hourly_s1.php?prec_no=33&amp;block_no=47584&amp;year=2021&amp;month=04&amp;day=11&amp;view=p1\">11</a>]', '[<td class=\"data_0_0\">15.9</td>]'], ['2021', '[<a href=\"hourly_s1.php?prec_no=33&amp;block_no=47584&amp;year=2021&amp;month=04&amp;day=12&amp;view=p1\">12</a>]', '[<td class=\"data_0_0\">18.9</td>]'], ['2021', '[<a href=\"hourly_s1.php?prec_no=33&amp;block_no=47584&amp;year=2021&amp;month=04&amp;day=13&amp;view=p1\">13</a>]', '[<td class=\"data_0_0\">18.8</td>]'], ['2021', '[<a href=\"hourly_s1.php?prec_no=33&amp;block_no=47584&amp;year=2021&amp;month=04&amp;day=14&amp;view=p1\">14</a>]', '[<td class=\"data_0_0\">12.7</td>]'], ['2021', '[<a href=\"hourly_s1.php?prec_no=33&amp;block_no=47584&amp;year=2021&amp;month=04&amp;day=15&amp;view=p1\">15</a>]', '[<td class=\"data_0_0\">11.8</td>]'], ['2021', '[<a href=\"hourly_s1.php?prec_no=33&amp;block_no=47584&amp;year=2021&amp;month=04&amp;day=16&amp;view=p1\">16</a>]', '[<td class=\"data_0_0\">15.7</td>]'], ['2021', '[<a href=\"hourly_s1.php?prec_no=33&amp;block_no=47584&amp;year=2021&amp;month=04&amp;day=17&amp;view=p1\">17</a>]', '[<td class=\"data_0_0\">14.9</td>]'], ['2021', '[<a href=\"hourly_s1.php?prec_no=33&amp;block_no=47584&amp;year=2021&amp;month=04&amp;day=18&amp;view=p1\">18</a>]', '[<td class=\"data_0_0\">14.2</td>]'], ['2021', '[<a href=\"hourly_s1.php?prec_no=33&amp;block_no=47584&amp;year=2021&amp;month=04&amp;day=19&amp;view=p1\">19</a>]', '[<td class=\"data_0_0\">12.7</td>]'], ['2021', '[<a href=\"hourly_s1.php?prec_no=33&amp;block_no=47584&amp;year=2021&amp;month=04&amp;day=20&amp;view=p1\">20</a>]', '[<td class=\"data_0_0\">18.6</td>]'], ['2021', '[<a href=\"hourly_s1.php?prec_no=33&amp;block_no=47584&amp;year=2021&amp;month=04&amp;day=21&amp;view=p1\">21</a>]', '[<td class=\"data_0_0\">16.7</td>]'], ['2021', '[<a href=\"hourly_s1.php?prec_no=33&amp;block_no=47584&amp;year=2021&amp;month=04&amp;day=22&amp;view=p1\">22</a>]', '[<td class=\"data_0_0\">18.3</td>]'], ['2021', '[<a href=\"hourly_s1.php?prec_no=33&amp;block_no=47584&amp;year=2021&amp;month=04&amp;day=23&amp;view=p1\">23</a>]', '[<td class=\"data_0_0\">19.9</td>]'], ['2021', '[<a href=\"hourly_s1.php?prec_no=33&amp;block_no=47584&amp;year=2021&amp;month=04&amp;day=24&amp;view=p1\">24</a>]', '[<td class=\"data_0_0\">22.1</td>]'], ['2021', '[<a href=\"hourly_s1.php?prec_no=33&amp;block_no=47584&amp;year=2021&amp;month=04&amp;day=25&amp;view=p1\">25</a>]', '[<td class=\"data_0_0\">14.1</td>]'], ['2021', '[<a href=\"hourly_s1.php?prec_no=33&amp;block_no=47584&amp;year=2021&amp;month=04&amp;day=26&amp;view=p1\">26</a>]', '[<td class=\"data_0_0\">12.2</td>]'], ['2021', '[<a href=\"hourly_s1.php?prec_no=33&amp;block_no=47584&amp;year=2021&amp;month=04&amp;day=27&amp;view=p1\">27</a>]', '[<td class=\"data_0_0\">17.6</td>]'], ['2021', '[<a href=\"hourly_s1.php?prec_no=33&amp;block_no=47584&amp;year=2021&amp;month=04&amp;day=28&amp;view=p1\">28</a>]', '[<td class=\"data_0_0\">18.6</td>]'], ['2021', '[<a href=\"hourly_s1.php?prec_no=33&amp;block_no=47584&amp;year=2021&amp;month=04&amp;day=29&amp;view=p1\">29</a>]', '[<td class=\"data_0_0\">15.0</td>]'], ['2021', '[<a href=\"hourly_s1.php?prec_no=33&amp;block_no=47584&amp;year=2021&amp;month=04&amp;day=30&amp;view=p1\">30</a>]', '[<td class=\"data_0_0\">13.2</td>]']]\n"
     ]
    }
   ],
   "source": [
    "print(f)"
   ]
  },
  {
   "cell_type": "code",
   "execution_count": 38,
   "id": "330d66ce-f62e-4da3-a12c-30292314eee8",
   "metadata": {},
   "outputs": [
    {
     "name": "stdout",
     "output_type": "stream",
     "text": [
      "['2018', '[<a href=\"hourly_s1.php?prec_no=33&amp;block_no=47584&amp;year=2018&amp;month=04&amp;day=1&amp;view=p1\">1</a>]', '[<td class=\"data_0_0\">11.7</td>]']\n"
     ]
    }
   ],
   "source": [
    "print(f[1])"
   ]
  },
  {
   "cell_type": "code",
   "execution_count": 39,
   "id": "d5138be7-644e-4381-9d33-61956c0ef263",
   "metadata": {},
   "outputs": [
    {
     "name": "stdout",
     "output_type": "stream",
     "text": [
      "[<a href=\"hourly_s1.php?prec_no=33&amp;block_no=47584&amp;year=2018&amp;month=04&amp;day=1&amp;view=p1\">1</a>]\n"
     ]
    }
   ],
   "source": [
    "print(f[1][1])"
   ]
  },
  {
   "cell_type": "code",
   "execution_count": 40,
   "id": "96bb2a02-0ace-49f2-839c-5962e87d83ce",
   "metadata": {},
   "outputs": [
    {
     "name": "stdout",
     "output_type": "stream",
     "text": [
      "<class 'str'>\n"
     ]
    }
   ],
   "source": [
    "print(type(f[1][1]))"
   ]
  },
  {
   "cell_type": "code",
   "execution_count": 41,
   "id": "84ea64da-fb8d-4e36-9b8c-d4d7de875c03",
   "metadata": {},
   "outputs": [
    {
     "ename": "SyntaxError",
     "evalue": "closing parenthesis ')' does not match opening parenthesis '[' (<ipython-input-41-72cf5e055aa0>, line 11)",
     "output_type": "error",
     "traceback": [
      "\u001b[1;36m  File \u001b[1;32m\"<ipython-input-41-72cf5e055aa0>\"\u001b[1;36m, line \u001b[1;32m11\u001b[0m\n\u001b[1;33m    new_df.writerow([0, new_day, new_temp)\u001b[0m\n\u001b[1;37m                                         ^\u001b[0m\n\u001b[1;31mSyntaxError\u001b[0m\u001b[1;31m:\u001b[0m closing parenthesis ')' does not match opening parenthesis '['\n"
     ]
    }
   ],
   "source": [
    "import re\n",
    "p = re.compile(r\"<[^>]*?>\")\n",
    "with open('morioka_temperature_.csv', 'a') as a:\n",
    "    new_df = csv.writer(a)\n",
    "    new_df.writerow([Year, Date, Temparature])\n",
    "    for i in range(1, 122):\n",
    "        new_day = f[i][1].strip()\n",
    "        new_day = p.sub(\"\", new_day)\n",
    "        new_temp = f[i][2].strip()\n",
    "        new_temp = p.sub(\"\", new_temp)\n",
    "        new_df.writerow([0, new_day, new_temp])\n",
    "            "
   ]
  },
  {
   "cell_type": "code",
   "execution_count": 42,
   "id": "f4727764-8461-4cc6-be51-40e0cb11b491",
   "metadata": {},
   "outputs": [
    {
     "ename": "NameError",
     "evalue": "name 'Year' is not defined",
     "output_type": "error",
     "traceback": [
      "\u001b[1;31m---------------------------------------------------------------------------\u001b[0m",
      "\u001b[1;31mNameError\u001b[0m                                 Traceback (most recent call last)",
      "\u001b[1;32m<ipython-input-42-541e417e0f18>\u001b[0m in \u001b[0;36m<module>\u001b[1;34m\u001b[0m\n\u001b[0;32m      3\u001b[0m \u001b[1;32mwith\u001b[0m \u001b[0mopen\u001b[0m\u001b[1;33m(\u001b[0m\u001b[1;34m'morioka_temperature_.csv'\u001b[0m\u001b[1;33m,\u001b[0m \u001b[1;34m'a'\u001b[0m\u001b[1;33m)\u001b[0m \u001b[1;32mas\u001b[0m \u001b[0ma\u001b[0m\u001b[1;33m:\u001b[0m\u001b[1;33m\u001b[0m\u001b[1;33m\u001b[0m\u001b[0m\n\u001b[0;32m      4\u001b[0m     \u001b[0mnew_df\u001b[0m \u001b[1;33m=\u001b[0m \u001b[0mcsv\u001b[0m\u001b[1;33m.\u001b[0m\u001b[0mwriter\u001b[0m\u001b[1;33m(\u001b[0m\u001b[0ma\u001b[0m\u001b[1;33m)\u001b[0m\u001b[1;33m\u001b[0m\u001b[1;33m\u001b[0m\u001b[0m\n\u001b[1;32m----> 5\u001b[1;33m     \u001b[0mnew_df\u001b[0m\u001b[1;33m.\u001b[0m\u001b[0mwriterow\u001b[0m\u001b[1;33m(\u001b[0m\u001b[1;33m[\u001b[0m\u001b[0mYear\u001b[0m\u001b[1;33m,\u001b[0m \u001b[0mDate\u001b[0m\u001b[1;33m,\u001b[0m \u001b[0mTemparature\u001b[0m\u001b[1;33m]\u001b[0m\u001b[1;33m)\u001b[0m\u001b[1;33m\u001b[0m\u001b[1;33m\u001b[0m\u001b[0m\n\u001b[0m\u001b[0;32m      6\u001b[0m     \u001b[1;32mfor\u001b[0m \u001b[0mi\u001b[0m \u001b[1;32min\u001b[0m \u001b[0mrange\u001b[0m\u001b[1;33m(\u001b[0m\u001b[1;36m1\u001b[0m\u001b[1;33m,\u001b[0m \u001b[1;36m122\u001b[0m\u001b[1;33m)\u001b[0m\u001b[1;33m:\u001b[0m\u001b[1;33m\u001b[0m\u001b[1;33m\u001b[0m\u001b[0m\n\u001b[0;32m      7\u001b[0m         \u001b[0mnew_day\u001b[0m \u001b[1;33m=\u001b[0m \u001b[0mf\u001b[0m\u001b[1;33m[\u001b[0m\u001b[0mi\u001b[0m\u001b[1;33m]\u001b[0m\u001b[1;33m[\u001b[0m\u001b[1;36m1\u001b[0m\u001b[1;33m]\u001b[0m\u001b[1;33m.\u001b[0m\u001b[0mstrip\u001b[0m\u001b[1;33m(\u001b[0m\u001b[1;33m)\u001b[0m\u001b[1;33m\u001b[0m\u001b[1;33m\u001b[0m\u001b[0m\n",
      "\u001b[1;31mNameError\u001b[0m: name 'Year' is not defined"
     ]
    }
   ],
   "source": [
    "import re\n",
    "p = re.compile(r\"<[^>]*?>\")\n",
    "with open('morioka_temperature_.csv', 'a') as a:\n",
    "    new_df = csv.writer(a)\n",
    "    new_df.writerow([Year, Date, Temparature])\n",
    "    for i in range(1, 122):\n",
    "        new_day = f[i][1].strip()\n",
    "        new_day = p.sub(\"\", new_day)\n",
    "        new_temp = f[i][2].strip()\n",
    "        new_temp = p.sub(\"\", new_temp)\n",
    "        new_df.writerow([0, new_day, new_temp])"
   ]
  },
  {
   "cell_type": "code",
   "execution_count": 44,
   "id": "ef423bcb-6d4a-4003-8c52-dfcd9505cc20",
   "metadata": {},
   "outputs": [
    {
     "ename": "IndexError",
     "evalue": "list index out of range",
     "output_type": "error",
     "traceback": [
      "\u001b[1;31m---------------------------------------------------------------------------\u001b[0m",
      "\u001b[1;31mIndexError\u001b[0m                                Traceback (most recent call last)",
      "\u001b[1;32m<ipython-input-44-d94baba68a78>\u001b[0m in \u001b[0;36m<module>\u001b[1;34m\u001b[0m\n\u001b[0;32m      5\u001b[0m     \u001b[0mnew_df\u001b[0m\u001b[1;33m.\u001b[0m\u001b[0mwriterow\u001b[0m\u001b[1;33m(\u001b[0m\u001b[1;33m[\u001b[0m\u001b[1;34m\"Date\"\u001b[0m\u001b[1;33m,\u001b[0m \u001b[1;34m\"Temparature\"\u001b[0m\u001b[1;33m]\u001b[0m\u001b[1;33m)\u001b[0m\u001b[1;33m\u001b[0m\u001b[1;33m\u001b[0m\u001b[0m\n\u001b[0;32m      6\u001b[0m     \u001b[1;32mfor\u001b[0m \u001b[0mi\u001b[0m \u001b[1;32min\u001b[0m \u001b[0mrange\u001b[0m\u001b[1;33m(\u001b[0m\u001b[1;36m1\u001b[0m\u001b[1;33m,\u001b[0m \u001b[1;36m122\u001b[0m\u001b[1;33m)\u001b[0m\u001b[1;33m:\u001b[0m\u001b[1;33m\u001b[0m\u001b[1;33m\u001b[0m\u001b[0m\n\u001b[1;32m----> 7\u001b[1;33m         \u001b[0mnew_day\u001b[0m \u001b[1;33m=\u001b[0m \u001b[0mf\u001b[0m\u001b[1;33m[\u001b[0m\u001b[0mi\u001b[0m\u001b[1;33m]\u001b[0m\u001b[1;33m[\u001b[0m\u001b[1;36m1\u001b[0m\u001b[1;33m]\u001b[0m\u001b[1;33m.\u001b[0m\u001b[0mstrip\u001b[0m\u001b[1;33m(\u001b[0m\u001b[1;33m)\u001b[0m\u001b[1;33m\u001b[0m\u001b[1;33m\u001b[0m\u001b[0m\n\u001b[0m\u001b[0;32m      8\u001b[0m         \u001b[0mnew_day\u001b[0m \u001b[1;33m=\u001b[0m \u001b[0mp\u001b[0m\u001b[1;33m.\u001b[0m\u001b[0msub\u001b[0m\u001b[1;33m(\u001b[0m\u001b[1;34m\"\"\u001b[0m\u001b[1;33m,\u001b[0m \u001b[0mnew_day\u001b[0m\u001b[1;33m)\u001b[0m\u001b[1;33m\u001b[0m\u001b[1;33m\u001b[0m\u001b[0m\n\u001b[0;32m      9\u001b[0m         \u001b[0mnew_temp\u001b[0m \u001b[1;33m=\u001b[0m \u001b[0mf\u001b[0m\u001b[1;33m[\u001b[0m\u001b[0mi\u001b[0m\u001b[1;33m]\u001b[0m\u001b[1;33m[\u001b[0m\u001b[1;36m2\u001b[0m\u001b[1;33m]\u001b[0m\u001b[1;33m.\u001b[0m\u001b[0mstrip\u001b[0m\u001b[1;33m(\u001b[0m\u001b[1;33m)\u001b[0m\u001b[1;33m\u001b[0m\u001b[1;33m\u001b[0m\u001b[0m\n",
      "\u001b[1;31mIndexError\u001b[0m: list index out of range"
     ]
    }
   ],
   "source": [
    "import re\n",
    "p = re.compile(r\"<[^>]*?>\")\n",
    "with open('morioka_temperature_.csv', 'a') as a:\n",
    "    new_df = csv.writer(a)\n",
    "    new_df.writerow([\"Date\", \"Temparature\"])\n",
    "    for i in range(1, 122):\n",
    "        new_day = f[i][1].strip()\n",
    "        new_day = p.sub(\"\", new_day)\n",
    "        new_temp = f[i][2].strip()\n",
    "        new_temp = p.sub(\"\", new_temp)\n",
    "        new_df.writerow([new_day, new_temp])"
   ]
  },
  {
   "cell_type": "code",
   "execution_count": 45,
   "id": "98c8e1a8-c3ed-4aa0-a34b-dc35df89d16c",
   "metadata": {},
   "outputs": [
    {
     "data": {
      "text/plain": [
       "'[<a href=\"hourly_s1.php?prec_no=33&amp;block_no=47584&amp;year=2018&amp;month=04&amp;day=1&amp;view=p1\">1</a>]'"
      ]
     },
     "execution_count": 45,
     "metadata": {},
     "output_type": "execute_result"
    }
   ],
   "source": [
    "f[1][1]"
   ]
  },
  {
   "cell_type": "code",
   "execution_count": 46,
   "id": "74a5d414-a390-4110-88ce-947705f88499",
   "metadata": {},
   "outputs": [
    {
     "data": {
      "text/plain": [
       "'[<td class=\"data_0_0\">11.7</td>]'"
      ]
     },
     "execution_count": 46,
     "metadata": {},
     "output_type": "execute_result"
    }
   ],
   "source": [
    "f[1][2]"
   ]
  },
  {
   "cell_type": "raw",
   "id": "70d7d6aa-161e-4df5-880d-65dd10230096",
   "metadata": {},
   "source": [
    "range(1,122)"
   ]
  },
  {
   "cell_type": "code",
   "execution_count": 47,
   "id": "e518724d-eb9c-4af3-8b53-d80ef3e90247",
   "metadata": {},
   "outputs": [
    {
     "name": "stdout",
     "output_type": "stream",
     "text": [
      "range(1, 122)\n"
     ]
    }
   ],
   "source": [
    "print(range(1,122))"
   ]
  },
  {
   "cell_type": "code",
   "execution_count": 48,
   "id": "962afa09-e27f-42e5-8936-518a6a0c1ba7",
   "metadata": {},
   "outputs": [
    {
     "data": {
      "text/plain": [
       "range(1, 4)"
      ]
     },
     "execution_count": 48,
     "metadata": {},
     "output_type": "execute_result"
    }
   ],
   "source": [
    "range(1,4)"
   ]
  },
  {
   "cell_type": "code",
   "execution_count": 49,
   "id": "1f270dbb-113f-44ed-aec6-b995687bba3b",
   "metadata": {},
   "outputs": [
    {
     "ename": "IndexError",
     "evalue": "list index out of range",
     "output_type": "error",
     "traceback": [
      "\u001b[1;31m---------------------------------------------------------------------------\u001b[0m",
      "\u001b[1;31mIndexError\u001b[0m                                Traceback (most recent call last)",
      "\u001b[1;32m<ipython-input-49-d94baba68a78>\u001b[0m in \u001b[0;36m<module>\u001b[1;34m\u001b[0m\n\u001b[0;32m      5\u001b[0m     \u001b[0mnew_df\u001b[0m\u001b[1;33m.\u001b[0m\u001b[0mwriterow\u001b[0m\u001b[1;33m(\u001b[0m\u001b[1;33m[\u001b[0m\u001b[1;34m\"Date\"\u001b[0m\u001b[1;33m,\u001b[0m \u001b[1;34m\"Temparature\"\u001b[0m\u001b[1;33m]\u001b[0m\u001b[1;33m)\u001b[0m\u001b[1;33m\u001b[0m\u001b[1;33m\u001b[0m\u001b[0m\n\u001b[0;32m      6\u001b[0m     \u001b[1;32mfor\u001b[0m \u001b[0mi\u001b[0m \u001b[1;32min\u001b[0m \u001b[0mrange\u001b[0m\u001b[1;33m(\u001b[0m\u001b[1;36m1\u001b[0m\u001b[1;33m,\u001b[0m \u001b[1;36m122\u001b[0m\u001b[1;33m)\u001b[0m\u001b[1;33m:\u001b[0m\u001b[1;33m\u001b[0m\u001b[1;33m\u001b[0m\u001b[0m\n\u001b[1;32m----> 7\u001b[1;33m         \u001b[0mnew_day\u001b[0m \u001b[1;33m=\u001b[0m \u001b[0mf\u001b[0m\u001b[1;33m[\u001b[0m\u001b[0mi\u001b[0m\u001b[1;33m]\u001b[0m\u001b[1;33m[\u001b[0m\u001b[1;36m1\u001b[0m\u001b[1;33m]\u001b[0m\u001b[1;33m.\u001b[0m\u001b[0mstrip\u001b[0m\u001b[1;33m(\u001b[0m\u001b[1;33m)\u001b[0m\u001b[1;33m\u001b[0m\u001b[1;33m\u001b[0m\u001b[0m\n\u001b[0m\u001b[0;32m      8\u001b[0m         \u001b[0mnew_day\u001b[0m \u001b[1;33m=\u001b[0m \u001b[0mp\u001b[0m\u001b[1;33m.\u001b[0m\u001b[0msub\u001b[0m\u001b[1;33m(\u001b[0m\u001b[1;34m\"\"\u001b[0m\u001b[1;33m,\u001b[0m \u001b[0mnew_day\u001b[0m\u001b[1;33m)\u001b[0m\u001b[1;33m\u001b[0m\u001b[1;33m\u001b[0m\u001b[0m\n\u001b[0;32m      9\u001b[0m         \u001b[0mnew_temp\u001b[0m \u001b[1;33m=\u001b[0m \u001b[0mf\u001b[0m\u001b[1;33m[\u001b[0m\u001b[0mi\u001b[0m\u001b[1;33m]\u001b[0m\u001b[1;33m[\u001b[0m\u001b[1;36m2\u001b[0m\u001b[1;33m]\u001b[0m\u001b[1;33m.\u001b[0m\u001b[0mstrip\u001b[0m\u001b[1;33m(\u001b[0m\u001b[1;33m)\u001b[0m\u001b[1;33m\u001b[0m\u001b[1;33m\u001b[0m\u001b[0m\n",
      "\u001b[1;31mIndexError\u001b[0m: list index out of range"
     ]
    }
   ],
   "source": [
    "import re\n",
    "p = re.compile(r\"<[^>]*?>\")\n",
    "with open('morioka_temperature_.csv', 'a') as a:\n",
    "    new_df = csv.writer(a)\n",
    "    new_df.writerow([\"Date\", \"Temparature\"])\n",
    "    for i in range(1, 122):\n",
    "        new_day = f[i][1].strip()\n",
    "        new_day = p.sub(\"\", new_day)\n",
    "        new_temp = f[i][2].strip()\n",
    "        new_temp = p.sub(\"\", new_temp)\n",
    "        new_df.writerow([new_day, new_temp])"
   ]
  },
  {
   "cell_type": "code",
   "execution_count": 50,
   "id": "20392756-028a-466a-94ca-cc1184df7d50",
   "metadata": {},
   "outputs": [
    {
     "name": "stdout",
     "output_type": "stream",
     "text": [
      "1\n",
      "2\n",
      "3\n",
      "4\n",
      "5\n",
      "6\n",
      "7\n",
      "8\n",
      "9\n",
      "10\n",
      "11\n",
      "12\n",
      "13\n",
      "14\n",
      "15\n",
      "16\n",
      "17\n",
      "18\n",
      "19\n",
      "20\n",
      "21\n",
      "22\n",
      "23\n",
      "24\n",
      "25\n",
      "26\n",
      "27\n",
      "28\n",
      "29\n",
      "30\n",
      "31\n",
      "32\n",
      "33\n",
      "34\n",
      "35\n",
      "36\n",
      "37\n",
      "38\n",
      "39\n",
      "40\n",
      "41\n",
      "42\n",
      "43\n",
      "44\n",
      "45\n",
      "46\n",
      "47\n",
      "48\n",
      "49\n",
      "50\n",
      "51\n",
      "52\n",
      "53\n",
      "54\n",
      "55\n",
      "56\n",
      "57\n",
      "58\n",
      "59\n",
      "60\n",
      "61\n",
      "62\n",
      "63\n",
      "64\n",
      "65\n",
      "66\n",
      "67\n",
      "68\n",
      "69\n",
      "70\n",
      "71\n",
      "72\n",
      "73\n",
      "74\n",
      "75\n",
      "76\n",
      "77\n",
      "78\n",
      "79\n",
      "80\n",
      "81\n",
      "82\n",
      "83\n",
      "84\n",
      "85\n",
      "86\n",
      "87\n",
      "88\n",
      "89\n",
      "90\n",
      "91\n",
      "92\n",
      "93\n",
      "94\n",
      "95\n",
      "96\n",
      "97\n",
      "98\n",
      "99\n",
      "100\n",
      "101\n",
      "102\n",
      "103\n",
      "104\n",
      "105\n",
      "106\n",
      "107\n",
      "108\n",
      "109\n",
      "110\n",
      "111\n",
      "112\n",
      "113\n",
      "114\n",
      "115\n",
      "116\n",
      "117\n",
      "118\n",
      "119\n",
      "120\n",
      "121\n"
     ]
    },
    {
     "ename": "IndexError",
     "evalue": "list index out of range",
     "output_type": "error",
     "traceback": [
      "\u001b[1;31m---------------------------------------------------------------------------\u001b[0m",
      "\u001b[1;31mIndexError\u001b[0m                                Traceback (most recent call last)",
      "\u001b[1;32m<ipython-input-50-7c631e0370b7>\u001b[0m in \u001b[0;36m<module>\u001b[1;34m\u001b[0m\n\u001b[0;32m      6\u001b[0m     \u001b[1;32mfor\u001b[0m \u001b[0mi\u001b[0m \u001b[1;32min\u001b[0m \u001b[0mrange\u001b[0m\u001b[1;33m(\u001b[0m\u001b[1;36m1\u001b[0m\u001b[1;33m,\u001b[0m \u001b[1;36m122\u001b[0m\u001b[1;33m)\u001b[0m\u001b[1;33m:\u001b[0m\u001b[1;33m\u001b[0m\u001b[1;33m\u001b[0m\u001b[0m\n\u001b[0;32m      7\u001b[0m         \u001b[0mprint\u001b[0m\u001b[1;33m(\u001b[0m\u001b[0mi\u001b[0m\u001b[1;33m)\u001b[0m\u001b[1;33m\u001b[0m\u001b[1;33m\u001b[0m\u001b[0m\n\u001b[1;32m----> 8\u001b[1;33m         \u001b[0mnew_day\u001b[0m \u001b[1;33m=\u001b[0m \u001b[0mf\u001b[0m\u001b[1;33m[\u001b[0m\u001b[0mi\u001b[0m\u001b[1;33m]\u001b[0m\u001b[1;33m[\u001b[0m\u001b[1;36m1\u001b[0m\u001b[1;33m]\u001b[0m\u001b[1;33m.\u001b[0m\u001b[0mstrip\u001b[0m\u001b[1;33m(\u001b[0m\u001b[1;33m)\u001b[0m\u001b[1;33m\u001b[0m\u001b[1;33m\u001b[0m\u001b[0m\n\u001b[0m\u001b[0;32m      9\u001b[0m         \u001b[0mnew_day\u001b[0m \u001b[1;33m=\u001b[0m \u001b[0mp\u001b[0m\u001b[1;33m.\u001b[0m\u001b[0msub\u001b[0m\u001b[1;33m(\u001b[0m\u001b[1;34m\"\"\u001b[0m\u001b[1;33m,\u001b[0m \u001b[0mnew_day\u001b[0m\u001b[1;33m)\u001b[0m\u001b[1;33m\u001b[0m\u001b[1;33m\u001b[0m\u001b[0m\n\u001b[0;32m     10\u001b[0m         \u001b[0mnew_temp\u001b[0m \u001b[1;33m=\u001b[0m \u001b[0mf\u001b[0m\u001b[1;33m[\u001b[0m\u001b[0mi\u001b[0m\u001b[1;33m]\u001b[0m\u001b[1;33m[\u001b[0m\u001b[1;36m2\u001b[0m\u001b[1;33m]\u001b[0m\u001b[1;33m.\u001b[0m\u001b[0mstrip\u001b[0m\u001b[1;33m(\u001b[0m\u001b[1;33m)\u001b[0m\u001b[1;33m\u001b[0m\u001b[1;33m\u001b[0m\u001b[0m\n",
      "\u001b[1;31mIndexError\u001b[0m: list index out of range"
     ]
    }
   ],
   "source": [
    "import re\n",
    "p = re.compile(r\"<[^>]*?>\")\n",
    "with open('morioka_temperature_.csv', 'a') as a:\n",
    "    new_df = csv.writer(a)\n",
    "    new_df.writerow([\"Date\", \"Temparature\"])\n",
    "    for i in range(1, 122):\n",
    "        print(i)\n",
    "        new_day = f[i][1].strip()\n",
    "        new_day = p.sub(\"\", new_day)\n",
    "        new_temp = f[i][2].strip()\n",
    "        new_temp = p.sub(\"\", new_temp)\n",
    "        new_df.writerow([new_day, new_temp])"
   ]
  },
  {
   "cell_type": "code",
   "execution_count": 51,
   "id": "ab9352fd-04d6-4878-8a3f-c97d16b37ee1",
   "metadata": {},
   "outputs": [
    {
     "name": "stdout",
     "output_type": "stream",
     "text": [
      "[<a href=\"hourly_s1.php?prec_no=33&amp;block_no=47584&amp;year=2018&amp;month=04&amp;day=1&amp;view=p1\">1</a>]\n",
      "[<a href=\"hourly_s1.php?prec_no=33&amp;block_no=47584&amp;year=2018&amp;month=04&amp;day=2&amp;view=p1\">2</a>]\n",
      "[<a href=\"hourly_s1.php?prec_no=33&amp;block_no=47584&amp;year=2018&amp;month=04&amp;day=3&amp;view=p1\">3</a>]\n",
      "[<a href=\"hourly_s1.php?prec_no=33&amp;block_no=47584&amp;year=2018&amp;month=04&amp;day=4&amp;view=p1\">4</a>]\n",
      "[<a href=\"hourly_s1.php?prec_no=33&amp;block_no=47584&amp;year=2018&amp;month=04&amp;day=5&amp;view=p1\">5</a>]\n",
      "[<a href=\"hourly_s1.php?prec_no=33&amp;block_no=47584&amp;year=2018&amp;month=04&amp;day=6&amp;view=p1\">6</a>]\n",
      "[<a href=\"hourly_s1.php?prec_no=33&amp;block_no=47584&amp;year=2018&amp;month=04&amp;day=7&amp;view=p1\">7</a>]\n",
      "[<a href=\"hourly_s1.php?prec_no=33&amp;block_no=47584&amp;year=2018&amp;month=04&amp;day=8&amp;view=p1\">8</a>]\n",
      "[<a href=\"hourly_s1.php?prec_no=33&amp;block_no=47584&amp;year=2018&amp;month=04&amp;day=9&amp;view=p1\">9</a>]\n"
     ]
    }
   ],
   "source": [
    "for i in range(1, 10):\n",
    "    print(f[i][1])"
   ]
  },
  {
   "cell_type": "code",
   "execution_count": 52,
   "id": "e54d96f9-ffdf-475e-9b04-1a7f2ff1ac6f",
   "metadata": {},
   "outputs": [
    {
     "name": "stdout",
     "output_type": "stream",
     "text": [
      "[<a href=\"hourly_s1.php?prec_no=33&amp;block_no=47584&amp;year=2018&amp;month=04&amp;day=1&amp;view=p1\">1</a>]\n",
      "1\n",
      "[<a href=\"hourly_s1.php?prec_no=33&amp;block_no=47584&amp;year=2018&amp;month=04&amp;day=2&amp;view=p1\">2</a>]\n",
      "2\n",
      "[<a href=\"hourly_s1.php?prec_no=33&amp;block_no=47584&amp;year=2018&amp;month=04&amp;day=3&amp;view=p1\">3</a>]\n",
      "3\n",
      "[<a href=\"hourly_s1.php?prec_no=33&amp;block_no=47584&amp;year=2018&amp;month=04&amp;day=4&amp;view=p1\">4</a>]\n",
      "4\n",
      "[<a href=\"hourly_s1.php?prec_no=33&amp;block_no=47584&amp;year=2018&amp;month=04&amp;day=5&amp;view=p1\">5</a>]\n",
      "5\n",
      "[<a href=\"hourly_s1.php?prec_no=33&amp;block_no=47584&amp;year=2018&amp;month=04&amp;day=6&amp;view=p1\">6</a>]\n",
      "6\n",
      "[<a href=\"hourly_s1.php?prec_no=33&amp;block_no=47584&amp;year=2018&amp;month=04&amp;day=7&amp;view=p1\">7</a>]\n",
      "7\n",
      "[<a href=\"hourly_s1.php?prec_no=33&amp;block_no=47584&amp;year=2018&amp;month=04&amp;day=8&amp;view=p1\">8</a>]\n",
      "8\n",
      "[<a href=\"hourly_s1.php?prec_no=33&amp;block_no=47584&amp;year=2018&amp;month=04&amp;day=9&amp;view=p1\">9</a>]\n",
      "9\n"
     ]
    }
   ],
   "source": [
    "for i in range(1, 10):\n",
    "    print(f[i][1])\n",
    "    print(i)"
   ]
  },
  {
   "cell_type": "code",
   "execution_count": 55,
   "id": "8b8ee4c5-77ec-4325-b964-9a24cc40fefc",
   "metadata": {},
   "outputs": [
    {
     "ename": "IndexError",
     "evalue": "list index out of range",
     "output_type": "error",
     "traceback": [
      "\u001b[1;31m---------------------------------------------------------------------------\u001b[0m",
      "\u001b[1;31mIndexError\u001b[0m                                Traceback (most recent call last)",
      "\u001b[1;32m<ipython-input-55-7599b7458a64>\u001b[0m in \u001b[0;36m<module>\u001b[1;34m\u001b[0m\n\u001b[0;32m      5\u001b[0m     \u001b[0mnew_df\u001b[0m\u001b[1;33m.\u001b[0m\u001b[0mwriterow\u001b[0m\u001b[1;33m(\u001b[0m\u001b[1;33m[\u001b[0m\u001b[1;34m\"Date\"\u001b[0m\u001b[1;33m,\u001b[0m \u001b[1;34m\"Temparature\"\u001b[0m\u001b[1;33m]\u001b[0m\u001b[1;33m)\u001b[0m\u001b[1;33m\u001b[0m\u001b[1;33m\u001b[0m\u001b[0m\n\u001b[0;32m      6\u001b[0m     \u001b[1;32mfor\u001b[0m \u001b[0mi\u001b[0m \u001b[1;32min\u001b[0m \u001b[0mrange\u001b[0m\u001b[1;33m(\u001b[0m\u001b[1;36m1\u001b[0m\u001b[1;33m,\u001b[0m \u001b[1;36m122\u001b[0m\u001b[1;33m)\u001b[0m\u001b[1;33m:\u001b[0m\u001b[1;33m\u001b[0m\u001b[1;33m\u001b[0m\u001b[0m\n\u001b[1;32m----> 7\u001b[1;33m         \u001b[0mnew_day\u001b[0m \u001b[1;33m=\u001b[0m \u001b[0mf\u001b[0m\u001b[1;33m[\u001b[0m\u001b[0mi\u001b[0m\u001b[1;33m]\u001b[0m\u001b[1;33m[\u001b[0m\u001b[1;36m1\u001b[0m\u001b[1;33m]\u001b[0m\u001b[1;33m.\u001b[0m\u001b[0mstrip\u001b[0m\u001b[1;33m(\u001b[0m\u001b[1;33m)\u001b[0m\u001b[1;33m\u001b[0m\u001b[1;33m\u001b[0m\u001b[0m\n\u001b[0m\u001b[0;32m      8\u001b[0m         \u001b[0mnew_day\u001b[0m \u001b[1;33m=\u001b[0m \u001b[0mp\u001b[0m\u001b[1;33m.\u001b[0m\u001b[0msub\u001b[0m\u001b[1;33m(\u001b[0m\u001b[1;34m\"\"\u001b[0m\u001b[1;33m,\u001b[0m \u001b[0mnew_day\u001b[0m\u001b[1;33m)\u001b[0m\u001b[1;33m\u001b[0m\u001b[1;33m\u001b[0m\u001b[0m\n\u001b[0;32m      9\u001b[0m         \u001b[0mnew_temp\u001b[0m \u001b[1;33m=\u001b[0m \u001b[0mf\u001b[0m\u001b[1;33m[\u001b[0m\u001b[0mi\u001b[0m\u001b[1;33m]\u001b[0m\u001b[1;33m[\u001b[0m\u001b[1;36m2\u001b[0m\u001b[1;33m]\u001b[0m\u001b[1;33m.\u001b[0m\u001b[0mstrip\u001b[0m\u001b[1;33m(\u001b[0m\u001b[1;33m)\u001b[0m\u001b[1;33m\u001b[0m\u001b[1;33m\u001b[0m\u001b[0m\n",
      "\u001b[1;31mIndexError\u001b[0m: list index out of range"
     ]
    }
   ],
   "source": [
    "import re\n",
    "p = re.compile(r\"<[^>]*?>\")\n",
    "with open('morioka_temperature_.csv', 'a') as a:\n",
    "    new_df = csv.writer(a)\n",
    "    new_df.writerow([\"Date\", \"Temparature\"])\n",
    "    for i in range(1, 122):\n",
    "        new_day = f[i][1].strip()\n",
    "        new_day = p.sub(\"\", new_day)\n",
    "        new_temp = f[i][2].strip()\n",
    "        new_temp = p.sub(\"\", new_temp)\n",
    "        new_df.writerow([new_day, new_temp])\n",
    "print(f)"
   ]
  },
  {
   "cell_type": "code",
   "execution_count": 56,
   "id": "46087be0-cc58-434f-8e85-2783c6a8229c",
   "metadata": {},
   "outputs": [
    {
     "ename": "PermissionError",
     "evalue": "[Errno 13] Permission denied: 'morioka_temperature_.csv'",
     "output_type": "error",
     "traceback": [
      "\u001b[1;31m---------------------------------------------------------------------------\u001b[0m",
      "\u001b[1;31mPermissionError\u001b[0m                           Traceback (most recent call last)",
      "\u001b[1;32m<ipython-input-56-5848e49ef3d1>\u001b[0m in \u001b[0;36m<module>\u001b[1;34m\u001b[0m\n\u001b[0;32m      1\u001b[0m \u001b[1;32mimport\u001b[0m \u001b[0mre\u001b[0m\u001b[1;33m\u001b[0m\u001b[1;33m\u001b[0m\u001b[0m\n\u001b[0;32m      2\u001b[0m \u001b[0mp\u001b[0m \u001b[1;33m=\u001b[0m \u001b[0mre\u001b[0m\u001b[1;33m.\u001b[0m\u001b[0mcompile\u001b[0m\u001b[1;33m(\u001b[0m\u001b[1;34mr\"<[^>]*?>\"\u001b[0m\u001b[1;33m)\u001b[0m\u001b[1;33m\u001b[0m\u001b[1;33m\u001b[0m\u001b[0m\n\u001b[1;32m----> 3\u001b[1;33m \u001b[1;32mwith\u001b[0m \u001b[0mopen\u001b[0m\u001b[1;33m(\u001b[0m\u001b[1;34m'morioka_temperature_.csv'\u001b[0m\u001b[1;33m,\u001b[0m \u001b[1;34m'a'\u001b[0m\u001b[1;33m,\u001b[0m \u001b[0mnewline\u001b[0m\u001b[1;33m=\u001b[0m\u001b[1;34m''\u001b[0m\u001b[1;33m)\u001b[0m \u001b[1;32mas\u001b[0m \u001b[0ma\u001b[0m\u001b[1;33m:\u001b[0m\u001b[1;33m\u001b[0m\u001b[1;33m\u001b[0m\u001b[0m\n\u001b[0m\u001b[0;32m      4\u001b[0m     \u001b[0mnew_df\u001b[0m \u001b[1;33m=\u001b[0m \u001b[0mcsv\u001b[0m\u001b[1;33m.\u001b[0m\u001b[0mwriter\u001b[0m\u001b[1;33m(\u001b[0m\u001b[0ma\u001b[0m\u001b[1;33m)\u001b[0m\u001b[1;33m\u001b[0m\u001b[1;33m\u001b[0m\u001b[0m\n\u001b[0;32m      5\u001b[0m     \u001b[0mnew_df\u001b[0m\u001b[1;33m.\u001b[0m\u001b[0mwriterow\u001b[0m\u001b[1;33m(\u001b[0m\u001b[1;33m[\u001b[0m\u001b[1;34m\"Date\"\u001b[0m\u001b[1;33m,\u001b[0m \u001b[1;34m\"Temparature\"\u001b[0m\u001b[1;33m]\u001b[0m\u001b[1;33m)\u001b[0m\u001b[1;33m\u001b[0m\u001b[1;33m\u001b[0m\u001b[0m\n",
      "\u001b[1;31mPermissionError\u001b[0m: [Errno 13] Permission denied: 'morioka_temperature_.csv'"
     ]
    }
   ],
   "source": [
    "import re\n",
    "p = re.compile(r\"<[^>]*?>\")\n",
    "with open('morioka_temperature_.csv', 'a', newline='') as a:\n",
    "    new_df = csv.writer(a)\n",
    "    new_df.writerow([\"Date\", \"Temparature\"])\n",
    "    for i in range(1, 122):\n",
    "        new_day = f[i][1].strip()\n",
    "        new_day = p.sub(\"\", new_day)\n",
    "        new_temp = f[i][2].strip()\n",
    "        new_temp = p.sub(\"\", new_temp)\n",
    "        new_df.writerow([new_day, new_temp])"
   ]
  },
  {
   "cell_type": "code",
   "execution_count": 57,
   "id": "60ca4e00-931e-467c-bf89-8064d6f0b864",
   "metadata": {},
   "outputs": [
    {
     "ename": "IndexError",
     "evalue": "list index out of range",
     "output_type": "error",
     "traceback": [
      "\u001b[1;31m---------------------------------------------------------------------------\u001b[0m",
      "\u001b[1;31mIndexError\u001b[0m                                Traceback (most recent call last)",
      "\u001b[1;32m<ipython-input-57-5848e49ef3d1>\u001b[0m in \u001b[0;36m<module>\u001b[1;34m\u001b[0m\n\u001b[0;32m      5\u001b[0m     \u001b[0mnew_df\u001b[0m\u001b[1;33m.\u001b[0m\u001b[0mwriterow\u001b[0m\u001b[1;33m(\u001b[0m\u001b[1;33m[\u001b[0m\u001b[1;34m\"Date\"\u001b[0m\u001b[1;33m,\u001b[0m \u001b[1;34m\"Temparature\"\u001b[0m\u001b[1;33m]\u001b[0m\u001b[1;33m)\u001b[0m\u001b[1;33m\u001b[0m\u001b[1;33m\u001b[0m\u001b[0m\n\u001b[0;32m      6\u001b[0m     \u001b[1;32mfor\u001b[0m \u001b[0mi\u001b[0m \u001b[1;32min\u001b[0m \u001b[0mrange\u001b[0m\u001b[1;33m(\u001b[0m\u001b[1;36m1\u001b[0m\u001b[1;33m,\u001b[0m \u001b[1;36m122\u001b[0m\u001b[1;33m)\u001b[0m\u001b[1;33m:\u001b[0m\u001b[1;33m\u001b[0m\u001b[1;33m\u001b[0m\u001b[0m\n\u001b[1;32m----> 7\u001b[1;33m         \u001b[0mnew_day\u001b[0m \u001b[1;33m=\u001b[0m \u001b[0mf\u001b[0m\u001b[1;33m[\u001b[0m\u001b[0mi\u001b[0m\u001b[1;33m]\u001b[0m\u001b[1;33m[\u001b[0m\u001b[1;36m1\u001b[0m\u001b[1;33m]\u001b[0m\u001b[1;33m.\u001b[0m\u001b[0mstrip\u001b[0m\u001b[1;33m(\u001b[0m\u001b[1;33m)\u001b[0m\u001b[1;33m\u001b[0m\u001b[1;33m\u001b[0m\u001b[0m\n\u001b[0m\u001b[0;32m      8\u001b[0m         \u001b[0mnew_day\u001b[0m \u001b[1;33m=\u001b[0m \u001b[0mp\u001b[0m\u001b[1;33m.\u001b[0m\u001b[0msub\u001b[0m\u001b[1;33m(\u001b[0m\u001b[1;34m\"\"\u001b[0m\u001b[1;33m,\u001b[0m \u001b[0mnew_day\u001b[0m\u001b[1;33m)\u001b[0m\u001b[1;33m\u001b[0m\u001b[1;33m\u001b[0m\u001b[0m\n\u001b[0;32m      9\u001b[0m         \u001b[0mnew_temp\u001b[0m \u001b[1;33m=\u001b[0m \u001b[0mf\u001b[0m\u001b[1;33m[\u001b[0m\u001b[0mi\u001b[0m\u001b[1;33m]\u001b[0m\u001b[1;33m[\u001b[0m\u001b[1;36m2\u001b[0m\u001b[1;33m]\u001b[0m\u001b[1;33m.\u001b[0m\u001b[0mstrip\u001b[0m\u001b[1;33m(\u001b[0m\u001b[1;33m)\u001b[0m\u001b[1;33m\u001b[0m\u001b[1;33m\u001b[0m\u001b[0m\n",
      "\u001b[1;31mIndexError\u001b[0m: list index out of range"
     ]
    }
   ],
   "source": [
    "import re\n",
    "p = re.compile(r\"<[^>]*?>\")\n",
    "with open('morioka_temperature_.csv', 'a', newline='') as a:\n",
    "    new_df = csv.writer(a)\n",
    "    new_df.writerow([\"Date\", \"Temparature\"])\n",
    "    for i in range(1, 121):\n",
    "        new_day = f[i][1].strip()\n",
    "        new_day = p.sub(\"\", new_day)\n",
    "        new_temp = f[i][2].strip()\n",
    "        new_temp = p.sub(\"\", new_temp)\n",
    "        new_df.writerow([new_day, new_temp])"
   ]
  },
  {
   "cell_type": "code",
   "execution_count": 58,
   "id": "f17a0ff7-89e8-4835-bf5b-80088b1fca4f",
   "metadata": {},
   "outputs": [],
   "source": [
    "new_df = open('morioka_temperature_.csv', 'r')"
   ]
  },
  {
   "cell_type": "code",
   "execution_count": 60,
   "id": "0ec8e54f-47c1-49a7-a41f-17d6c15cd642",
   "metadata": {},
   "outputs": [
    {
     "ename": "TypeError",
     "evalue": "'_io.TextIOWrapper' object is not subscriptable",
     "output_type": "error",
     "traceback": [
      "\u001b[1;31m---------------------------------------------------------------------------\u001b[0m",
      "\u001b[1;31mTypeError\u001b[0m                                 Traceback (most recent call last)",
      "\u001b[1;32m<ipython-input-60-7865be1fd0af>\u001b[0m in \u001b[0;36m<module>\u001b[1;34m\u001b[0m\n\u001b[1;32m----> 1\u001b[1;33m \u001b[0mtype\u001b[0m\u001b[1;33m(\u001b[0m\u001b[0mnew_df\u001b[0m\u001b[1;33m[\u001b[0m\u001b[1;36m1\u001b[0m\u001b[1;33m]\u001b[0m\u001b[1;33m[\u001b[0m\u001b[1;36m1\u001b[0m\u001b[1;33m]\u001b[0m\u001b[1;33m)\u001b[0m\u001b[1;33m\u001b[0m\u001b[1;33m\u001b[0m\u001b[0m\n\u001b[0m",
      "\u001b[1;31mTypeError\u001b[0m: '_io.TextIOWrapper' object is not subscriptable"
     ]
    }
   ],
   "source": [
    "type(new_df[1][1])"
   ]
  },
  {
   "cell_type": "code",
   "execution_count": 61,
   "id": "dc671a8c-447b-48b0-b3df-39f220a607e2",
   "metadata": {},
   "outputs": [
    {
     "data": {
      "text/plain": [
       "<_io.TextIOWrapper name='morioka_temperature_.csv' mode='r' encoding='cp932'>"
      ]
     },
     "execution_count": 61,
     "metadata": {},
     "output_type": "execute_result"
    }
   ],
   "source": [
    "new_df"
   ]
  },
  {
   "cell_type": "code",
   "execution_count": 62,
   "id": "fc9c90c3-ebc7-4927-aa1c-017ef4998191",
   "metadata": {},
   "outputs": [
    {
     "data": {
      "text/plain": [
       "<_csv.reader at 0x2b54c0262e0>"
      ]
     },
     "execution_count": 62,
     "metadata": {},
     "output_type": "execute_result"
    }
   ],
   "source": [
    "csv.reader(new_df)"
   ]
  },
  {
   "cell_type": "code",
   "execution_count": 63,
   "id": "5b033440-f466-4537-bb22-f5d980e5a06a",
   "metadata": {},
   "outputs": [],
   "source": [
    "df = pd.read_csv('morioka_temperature.csv')"
   ]
  },
  {
   "cell_type": "code",
   "execution_count": 64,
   "id": "6959a333-13fe-430f-b7b5-b57fdeefb545",
   "metadata": {},
   "outputs": [
    {
     "name": "stdout",
     "output_type": "stream",
     "text": [
      "     Year   Day Temperature\n",
      "0    2018   [1]      [11.7]\n",
      "1    2018   [2]      [16.7]\n",
      "2    2018   [3]      [19.3]\n",
      "3    2018   [4]      [12.3]\n",
      "4    2018   [5]       [9.1]\n",
      "..    ...   ...         ...\n",
      "115  2021  [26]      [12.2]\n",
      "116  2021  [27]      [17.6]\n",
      "117  2021  [28]      [18.6]\n",
      "118  2021  [29]      [15.0]\n",
      "119  2021  [30]      [13.2]\n",
      "\n",
      "[120 rows x 3 columns]\n"
     ]
    }
   ],
   "source": [
    "print(df)"
   ]
  },
  {
   "cell_type": "code",
   "execution_count": 65,
   "id": "2f5f0e78-4645-4ec6-87b3-6d43bd3cb7d6",
   "metadata": {},
   "outputs": [],
   "source": [
    "f = open('morioka_temperature.csv', 'r')"
   ]
  },
  {
   "cell_type": "code",
   "execution_count": 66,
   "id": "88cef754-0e44-4311-b57e-a896ed7178c9",
   "metadata": {},
   "outputs": [
    {
     "ename": "TypeError",
     "evalue": "'_io.TextIOWrapper' object is not subscriptable",
     "output_type": "error",
     "traceback": [
      "\u001b[1;31m---------------------------------------------------------------------------\u001b[0m",
      "\u001b[1;31mTypeError\u001b[0m                                 Traceback (most recent call last)",
      "\u001b[1;32m<ipython-input-66-dadc704e8d1c>\u001b[0m in \u001b[0;36m<module>\u001b[1;34m\u001b[0m\n\u001b[1;32m----> 1\u001b[1;33m \u001b[0mf\u001b[0m\u001b[1;33m[\u001b[0m\u001b[1;36m0\u001b[0m\u001b[1;33m]\u001b[0m\u001b[1;33m[\u001b[0m\u001b[1;36m0\u001b[0m\u001b[1;33m]\u001b[0m\u001b[1;33m\u001b[0m\u001b[1;33m\u001b[0m\u001b[0m\n\u001b[0m",
      "\u001b[1;31mTypeError\u001b[0m: '_io.TextIOWrapper' object is not subscriptable"
     ]
    }
   ],
   "source": [
    "f[0][0]"
   ]
  },
  {
   "cell_type": "code",
   "execution_count": 67,
   "id": "a8c6a94f-5aea-412d-86b0-9e4bfe91e7cd",
   "metadata": {},
   "outputs": [
    {
     "data": {
      "text/plain": [
       "<_io.TextIOWrapper name='morioka_temperature.csv' mode='r' encoding='cp932'>"
      ]
     },
     "execution_count": 67,
     "metadata": {},
     "output_type": "execute_result"
    }
   ],
   "source": [
    "f"
   ]
  },
  {
   "cell_type": "code",
   "execution_count": 68,
   "id": "d36b2d15-0954-4106-847f-81879d951749",
   "metadata": {},
   "outputs": [
    {
     "ename": "TypeError",
     "evalue": "'_io.TextIOWrapper' object is not subscriptable",
     "output_type": "error",
     "traceback": [
      "\u001b[1;31m---------------------------------------------------------------------------\u001b[0m",
      "\u001b[1;31mTypeError\u001b[0m                                 Traceback (most recent call last)",
      "\u001b[1;32m<ipython-input-68-279fe9330ce7>\u001b[0m in \u001b[0;36m<module>\u001b[1;34m\u001b[0m\n\u001b[1;32m----> 1\u001b[1;33m \u001b[0mprint\u001b[0m\u001b[1;33m(\u001b[0m\u001b[0mf\u001b[0m\u001b[1;33m[\u001b[0m\u001b[1;36m0\u001b[0m\u001b[1;33m]\u001b[0m\u001b[1;33m[\u001b[0m\u001b[1;36m0\u001b[0m\u001b[1;33m]\u001b[0m\u001b[1;33m)\u001b[0m\u001b[1;33m\u001b[0m\u001b[1;33m\u001b[0m\u001b[0m\n\u001b[0m",
      "\u001b[1;31mTypeError\u001b[0m: '_io.TextIOWrapper' object is not subscriptable"
     ]
    }
   ],
   "source": [
    "print(f[0][0])"
   ]
  },
  {
   "cell_type": "code",
   "execution_count": 69,
   "id": "8d38a339-e8ae-4b06-8b14-cc41e399cb60",
   "metadata": {},
   "outputs": [
    {
     "ename": "TypeError",
     "evalue": "'_io.TextIOWrapper' object is not subscriptable",
     "output_type": "error",
     "traceback": [
      "\u001b[1;31m---------------------------------------------------------------------------\u001b[0m",
      "\u001b[1;31mTypeError\u001b[0m                                 Traceback (most recent call last)",
      "\u001b[1;32m<ipython-input-69-25c10f67bc1c>\u001b[0m in \u001b[0;36m<module>\u001b[1;34m\u001b[0m\n\u001b[1;32m----> 1\u001b[1;33m \u001b[0mf\u001b[0m\u001b[1;33m[\u001b[0m\u001b[1;36m1\u001b[0m\u001b[1;33m]\u001b[0m\u001b[1;33m\u001b[0m\u001b[1;33m\u001b[0m\u001b[0m\n\u001b[0m",
      "\u001b[1;31mTypeError\u001b[0m: '_io.TextIOWrapper' object is not subscriptable"
     ]
    }
   ],
   "source": [
    "f[1]"
   ]
  },
  {
   "cell_type": "code",
   "execution_count": 70,
   "id": "b8232652-2a04-49ec-b23f-8a893e2b53d8",
   "metadata": {},
   "outputs": [],
   "source": [
    "f = csv.reader(f)\n",
    "f = [row for row in f]"
   ]
  },
  {
   "cell_type": "code",
   "execution_count": 71,
   "id": "fd886a8c-d8ec-4263-9063-6512d0cae508",
   "metadata": {},
   "outputs": [
    {
     "data": {
      "text/plain": [
       "['2018', '[1]', '[11.7]']"
      ]
     },
     "execution_count": 71,
     "metadata": {},
     "output_type": "execute_result"
    }
   ],
   "source": [
    "f[1]"
   ]
  },
  {
   "cell_type": "code",
   "execution_count": 72,
   "id": "2e634138-2e9b-4dd2-83b9-df8a742a9513",
   "metadata": {},
   "outputs": [
    {
     "data": {
      "text/plain": [
       "[['Year', 'Day', 'Temperature'],\n",
       " ['2018', '[1]', '[11.7]'],\n",
       " ['2018', '[2]', '[16.7]'],\n",
       " ['2018', '[3]', '[19.3]'],\n",
       " ['2018', '[4]', '[12.3]'],\n",
       " ['2018', '[5]', '[9.1]'],\n",
       " ['2018', '[6]', '[4.3]'],\n",
       " ['2018', '[7]', '[10.4]'],\n",
       " ['2018', '[8]', '[9.0]'],\n",
       " ['2018', '[9]', '[6.9]'],\n",
       " ['2018', '[10]', '[12.3]'],\n",
       " ['2018', '[11]', '[14.6]'],\n",
       " ['2018', '[12]', '[17.1]'],\n",
       " ['2018', '[13]', '[13.4]'],\n",
       " ['2018', '[14]', '[10.7]'],\n",
       " ['2018', '[15]', '[14.2]'],\n",
       " ['2018', '[16]', '[11.6]'],\n",
       " ['2018', '[17]', '[15.7]'],\n",
       " ['2018', '[18]', '[16.4]'],\n",
       " ['2018', '[19]', '[20.8]'],\n",
       " ['2018', '[20]', '[19.9]'],\n",
       " ['2018', '[21]', '[25.8]'],\n",
       " ['2018', '[22]', '[23.2]'],\n",
       " ['2018', '[23]', '[14.4]'],\n",
       " ['2018', '[24]', '[12.7]'],\n",
       " ['2018', '[25]', '[9.4]'],\n",
       " ['2018', '[26]', '[15.6]'],\n",
       " ['2018', '[27]', '[20.6]'],\n",
       " ['2018', '[28]', '[17.8]'],\n",
       " ['2018', '[29]', '[26.3]'],\n",
       " ['2018', '[30]', '[25.9]'],\n",
       " ['2019', '[1]', '[4.6]'],\n",
       " ['2019', '[2]', '[3.6]'],\n",
       " ['2019', '[3]', '[5.2]'],\n",
       " ['2019', '[4]', '[9.1]'],\n",
       " ['2019', '[5]', '[14.5]'],\n",
       " ['2019', '[6]', '[9.5]'],\n",
       " ['2019', '[7]', '[11.7]'],\n",
       " ['2019', '[8]', '[12.0]'],\n",
       " ['2019', '[9]', '[10.8]'],\n",
       " ['2019', '[10]', '[11.3]'],\n",
       " ['2019', '[11]', '[10.3]'],\n",
       " ['2019', '[12]', '[12.9]'],\n",
       " ['2019', '[13]', '[14.4]'],\n",
       " ['2019', '[14]', '[18.5]'],\n",
       " ['2019', '[15]', '[12.7]'],\n",
       " ['2019', '[16]', '[15.7]'],\n",
       " ['2019', '[17]', '[23.3]'],\n",
       " ['2019', '[18]', '[22.9]'],\n",
       " ['2019', '[19]', '[16.9]'],\n",
       " ['2019', '[20]', '[13.6]'],\n",
       " ['2019', '[21]', '[21.0]'],\n",
       " ['2019', '[22]', '[20.4]'],\n",
       " ['2019', '[23]', '[20.9]'],\n",
       " ['2019', '[24]', '[22.1]'],\n",
       " ['2019', '[25]', '[20.3]'],\n",
       " ['2019', '[26]', '[9.1]'],\n",
       " ['2019', '[27]', '[6.4]'],\n",
       " ['2019', '[28]', '[15.6]'],\n",
       " ['2019', '[29]', '[19.8]'],\n",
       " ['2019', '[30]', '[12.9]'],\n",
       " ['2020', '[1]', '[13.1]'],\n",
       " ['2020', '[2]', '[9.6]'],\n",
       " ['2020', '[3]', '[14.6]'],\n",
       " ['2020', '[4]', '[18.0]'],\n",
       " ['2020', '[5]', '[6.8]'],\n",
       " ['2020', '[6]', '[6.5]'],\n",
       " ['2020', '[7]', '[11.8]'],\n",
       " ['2020', '[8]', '[16.7]'],\n",
       " ['2020', '[9]', '[10.4]'],\n",
       " ['2020', '[10]', '[8.2]'],\n",
       " ['2020', '[11]', '[12.0]'],\n",
       " ['2020', '[12]', '[13.6]'],\n",
       " ['2020', '[13]', '[9.6]'],\n",
       " ['2020', '[14]', '[12.8]'],\n",
       " ['2020', '[15]', '[13.1]'],\n",
       " ['2020', '[16]', '[12.1]'],\n",
       " ['2020', '[17]', '[15.4 )]'],\n",
       " ['2020', '[18]', '[9.2]'],\n",
       " ['2020', '[19]', '[14.0]'],\n",
       " ['2020', '[20]', '[11.2]'],\n",
       " ['2020', '[21]', '[12.8]'],\n",
       " ['2020', '[22]', '[7.0]'],\n",
       " ['2020', '[23]', '[9.1]'],\n",
       " ['2020', '[24]', '[9.6]'],\n",
       " ['2020', '[25]', '[13.7]'],\n",
       " ['2020', '[26]', '[15.6]'],\n",
       " ['2020', '[27]', '[12.3]'],\n",
       " ['2020', '[28]', '[11.7]'],\n",
       " ['2020', '[29]', '[15.9]'],\n",
       " ['2020', '[30]', '[19.8]'],\n",
       " ['2021', '[1]', '[16.3]'],\n",
       " ['2021', '[2]', '[17.9]'],\n",
       " ['2021', '[3]', '[19.4]'],\n",
       " ['2021', '[4]', '[13.5]'],\n",
       " ['2021', '[5]', '[10.4]'],\n",
       " ['2021', '[6]', '[12.4]'],\n",
       " ['2021', '[7]', '[15.8]'],\n",
       " ['2021', '[8]', '[11.8]'],\n",
       " ['2021', '[9]', '[7.2]'],\n",
       " ['2021', '[10]', '[10.7]'],\n",
       " ['2021', '[11]', '[15.9]'],\n",
       " ['2021', '[12]', '[18.9]'],\n",
       " ['2021', '[13]', '[18.8]'],\n",
       " ['2021', '[14]', '[12.7]'],\n",
       " ['2021', '[15]', '[11.8]'],\n",
       " ['2021', '[16]', '[15.7]'],\n",
       " ['2021', '[17]', '[14.9]'],\n",
       " ['2021', '[18]', '[14.2]'],\n",
       " ['2021', '[19]', '[12.7]'],\n",
       " ['2021', '[20]', '[18.6]'],\n",
       " ['2021', '[21]', '[16.7]'],\n",
       " ['2021', '[22]', '[18.3]'],\n",
       " ['2021', '[23]', '[19.9]'],\n",
       " ['2021', '[24]', '[22.1]'],\n",
       " ['2021', '[25]', '[14.1]'],\n",
       " ['2021', '[26]', '[12.2]'],\n",
       " ['2021', '[27]', '[17.6]'],\n",
       " ['2021', '[28]', '[18.6]'],\n",
       " ['2021', '[29]', '[15.0]'],\n",
       " ['2021', '[30]', '[13.2]']]"
      ]
     },
     "execution_count": 72,
     "metadata": {},
     "output_type": "execute_result"
    }
   ],
   "source": [
    "f"
   ]
  },
  {
   "cell_type": "code",
   "execution_count": 73,
   "id": "f545ccc8-9ee6-4132-a22f-f2c9570420ae",
   "metadata": {},
   "outputs": [
    {
     "ename": "ValueError",
     "evalue": "invalid literal for int() with base 10: '[1]'",
     "output_type": "error",
     "traceback": [
      "\u001b[1;31m---------------------------------------------------------------------------\u001b[0m",
      "\u001b[1;31mValueError\u001b[0m                                Traceback (most recent call last)",
      "\u001b[1;32m<ipython-input-73-6b4e1f3757bc>\u001b[0m in \u001b[0;36m<module>\u001b[1;34m\u001b[0m\n\u001b[0;32m      5\u001b[0m         \u001b[0mnew_day\u001b[0m \u001b[1;33m=\u001b[0m \u001b[0mf\u001b[0m\u001b[1;33m[\u001b[0m\u001b[0mi\u001b[0m\u001b[1;33m]\u001b[0m\u001b[1;33m[\u001b[0m\u001b[1;36m1\u001b[0m\u001b[1;33m]\u001b[0m\u001b[1;33m.\u001b[0m\u001b[0mstrip\u001b[0m\u001b[1;33m(\u001b[0m\u001b[1;33m)\u001b[0m\u001b[1;33m\u001b[0m\u001b[1;33m\u001b[0m\u001b[0m\n\u001b[0;32m      6\u001b[0m         \u001b[0mnew_temp\u001b[0m \u001b[1;33m=\u001b[0m \u001b[0mf\u001b[0m\u001b[1;33m[\u001b[0m\u001b[0mi\u001b[0m\u001b[1;33m]\u001b[0m\u001b[1;33m[\u001b[0m\u001b[1;36m2\u001b[0m\u001b[1;33m]\u001b[0m\u001b[1;33m.\u001b[0m\u001b[0mstrip\u001b[0m\u001b[1;33m(\u001b[0m\u001b[1;33m)\u001b[0m\u001b[1;33m\u001b[0m\u001b[1;33m\u001b[0m\u001b[0m\n\u001b[1;32m----> 7\u001b[1;33m         \u001b[0mnew_df\u001b[0m\u001b[1;33m.\u001b[0m\u001b[0mwriterow\u001b[0m\u001b[1;33m(\u001b[0m\u001b[1;33m[\u001b[0m\u001b[0mint\u001b[0m\u001b[1;33m(\u001b[0m\u001b[0mnew_day\u001b[0m\u001b[1;33m)\u001b[0m\u001b[1;33m,\u001b[0m \u001b[0mfloat\u001b[0m\u001b[1;33m(\u001b[0m\u001b[0mnew_temp\u001b[0m\u001b[1;33m)\u001b[0m\u001b[1;33m]\u001b[0m\u001b[1;33m)\u001b[0m\u001b[1;33m\u001b[0m\u001b[1;33m\u001b[0m\u001b[0m\n\u001b[0m",
      "\u001b[1;31mValueError\u001b[0m: invalid literal for int() with base 10: '[1]'"
     ]
    }
   ],
   "source": [
    "with open('morioka_temperature_.csv', 'a') as a:\n",
    "    new_df = csv.writer(a)\n",
    "    new_df.writerow([\"Date\", \"Temparature\"])\n",
    "    for i in range(1, 121):\n",
    "        new_day = f[i][1].strip()\n",
    "        new_temp = f[i][2].strip()\n",
    "        new_df.writerow([int(new_day), float(new_temp)])"
   ]
  },
  {
   "cell_type": "code",
   "execution_count": 74,
   "id": "274b4404-95e0-4c1c-afac-e6789e14698d",
   "metadata": {},
   "outputs": [
    {
     "data": {
      "text/plain": [
       "str"
      ]
     },
     "execution_count": 74,
     "metadata": {},
     "output_type": "execute_result"
    }
   ],
   "source": [
    "type(f[1][1])"
   ]
  },
  {
   "cell_type": "code",
   "execution_count": 75,
   "id": "bf36362c-6386-4f8e-a627-c2245ea67937",
   "metadata": {},
   "outputs": [
    {
     "data": {
      "text/plain": [
       "'[1]'"
      ]
     },
     "execution_count": 75,
     "metadata": {},
     "output_type": "execute_result"
    }
   ],
   "source": [
    "f[1][1]"
   ]
  },
  {
   "cell_type": "code",
   "execution_count": 76,
   "id": "97fff1b0-6019-4dfd-bf4b-81a0fd8aa6af",
   "metadata": {},
   "outputs": [
    {
     "ename": "NameError",
     "evalue": "name 'strip' is not defined",
     "output_type": "error",
     "traceback": [
      "\u001b[1;31m---------------------------------------------------------------------------\u001b[0m",
      "\u001b[1;31mNameError\u001b[0m                                 Traceback (most recent call last)",
      "\u001b[1;32m<ipython-input-76-3ed6206a8e2a>\u001b[0m in \u001b[0;36m<module>\u001b[1;34m\u001b[0m\n\u001b[1;32m----> 1\u001b[1;33m \u001b[0mstrip\u001b[0m\u001b[1;33m(\u001b[0m\u001b[0mf\u001b[0m\u001b[1;33m[\u001b[0m\u001b[1;36m1\u001b[0m\u001b[1;33m]\u001b[0m\u001b[1;33m[\u001b[0m\u001b[1;36m1\u001b[0m\u001b[1;33m]\u001b[0m\u001b[1;33m)\u001b[0m\u001b[1;33m\u001b[0m\u001b[1;33m\u001b[0m\u001b[0m\n\u001b[0m",
      "\u001b[1;31mNameError\u001b[0m: name 'strip' is not defined"
     ]
    }
   ],
   "source": [
    "strip(f[1][1])"
   ]
  },
  {
   "cell_type": "code",
   "execution_count": 77,
   "id": "2e14d74e-6367-4f62-9751-76604a5b555f",
   "metadata": {},
   "outputs": [
    {
     "data": {
      "text/plain": [
       "'[1]'"
      ]
     },
     "execution_count": 77,
     "metadata": {},
     "output_type": "execute_result"
    }
   ],
   "source": [
    "f[1][1].strip()"
   ]
  },
  {
   "cell_type": "code",
   "execution_count": 78,
   "id": "9a844fee-6b88-4e02-b16b-bac5adb10810",
   "metadata": {},
   "outputs": [
    {
     "ename": "ValueError",
     "evalue": "invalid literal for int() with base 10: '[1]'",
     "output_type": "error",
     "traceback": [
      "\u001b[1;31m---------------------------------------------------------------------------\u001b[0m",
      "\u001b[1;31mValueError\u001b[0m                                Traceback (most recent call last)",
      "\u001b[1;32m<ipython-input-78-b4ef69b6dcd0>\u001b[0m in \u001b[0;36m<module>\u001b[1;34m\u001b[0m\n\u001b[1;32m----> 1\u001b[1;33m \u001b[0mint\u001b[0m\u001b[1;33m(\u001b[0m\u001b[0mf\u001b[0m\u001b[1;33m[\u001b[0m\u001b[1;36m1\u001b[0m\u001b[1;33m]\u001b[0m\u001b[1;33m[\u001b[0m\u001b[1;36m1\u001b[0m\u001b[1;33m]\u001b[0m\u001b[1;33m)\u001b[0m\u001b[1;33m\u001b[0m\u001b[1;33m\u001b[0m\u001b[0m\n\u001b[0m",
      "\u001b[1;31mValueError\u001b[0m: invalid literal for int() with base 10: '[1]'"
     ]
    }
   ],
   "source": [
    "int(f[1][1])"
   ]
  },
  {
   "cell_type": "code",
   "execution_count": 79,
   "id": "0924367f-1fb6-4965-8766-4376ca8e2633",
   "metadata": {},
   "outputs": [
    {
     "data": {
      "text/plain": [
       "'[[[1[]['"
      ]
     },
     "execution_count": 79,
     "metadata": {},
     "output_type": "execute_result"
    }
   ],
   "source": [
    "f[1][1].replace(\"\", \"[\")"
   ]
  },
  {
   "cell_type": "code",
   "execution_count": 81,
   "id": "b06557f7-337c-47e6-8ce1-21100777071c",
   "metadata": {},
   "outputs": [
    {
     "data": {
      "text/plain": [
       "'1]'"
      ]
     },
     "execution_count": 81,
     "metadata": {},
     "output_type": "execute_result"
    }
   ],
   "source": [
    "f[1][1].replace(\"[\", \"\")"
   ]
  },
  {
   "cell_type": "code",
   "execution_count": 82,
   "id": "406c12db-a0d2-464d-b21b-8d52130d9214",
   "metadata": {},
   "outputs": [
    {
     "data": {
      "text/plain": [
       "'[1]'"
      ]
     },
     "execution_count": 82,
     "metadata": {},
     "output_type": "execute_result"
    }
   ],
   "source": [
    "f[1][1].replace(\"[]\", \"\")"
   ]
  },
  {
   "cell_type": "code",
   "execution_count": 83,
   "id": "1b3b8363-efff-4162-bdd7-3308a4a3ac03",
   "metadata": {},
   "outputs": [
    {
     "data": {
      "text/plain": [
       "'[1'"
      ]
     },
     "execution_count": 83,
     "metadata": {},
     "output_type": "execute_result"
    }
   ],
   "source": [
    "f[1][1].replace(\"[\", \"\")\n",
    "f[1][1].replace(\"]\", \"\")"
   ]
  },
  {
   "cell_type": "code",
   "execution_count": 84,
   "id": "1a998a1e-d80a-4b5e-87c7-9c24e443ae48",
   "metadata": {},
   "outputs": [
    {
     "ename": "AttributeError",
     "evalue": "'str' object has no attribute 'replece'",
     "output_type": "error",
     "traceback": [
      "\u001b[1;31m---------------------------------------------------------------------------\u001b[0m",
      "\u001b[1;31mAttributeError\u001b[0m                            Traceback (most recent call last)",
      "\u001b[1;32m<ipython-input-84-6b1fa0dfb56a>\u001b[0m in \u001b[0;36m<module>\u001b[1;34m\u001b[0m\n\u001b[0;32m      1\u001b[0m \u001b[0mtest\u001b[0m \u001b[1;33m=\u001b[0m \u001b[0mf\u001b[0m\u001b[1;33m[\u001b[0m\u001b[1;36m1\u001b[0m\u001b[1;33m]\u001b[0m\u001b[1;33m[\u001b[0m\u001b[1;36m1\u001b[0m\u001b[1;33m]\u001b[0m\u001b[1;33m.\u001b[0m\u001b[0mreplace\u001b[0m\u001b[1;33m(\u001b[0m\u001b[1;34m\"[\"\u001b[0m\u001b[1;33m,\u001b[0m \u001b[1;34m\"\"\u001b[0m\u001b[1;33m)\u001b[0m\u001b[1;33m\u001b[0m\u001b[1;33m\u001b[0m\u001b[0m\n\u001b[1;32m----> 2\u001b[1;33m \u001b[0mtest\u001b[0m \u001b[1;33m=\u001b[0m \u001b[0mtest\u001b[0m\u001b[1;33m.\u001b[0m\u001b[0mreplece\u001b[0m\u001b[1;33m(\u001b[0m\u001b[1;34m\"]\"\u001b[0m\u001b[1;33m,\u001b[0m \u001b[1;34m\"\"\u001b[0m\u001b[1;33m)\u001b[0m\u001b[1;33m\u001b[0m\u001b[1;33m\u001b[0m\u001b[0m\n\u001b[0m",
      "\u001b[1;31mAttributeError\u001b[0m: 'str' object has no attribute 'replece'"
     ]
    }
   ],
   "source": [
    "test = f[1][1].replace(\"[\", \"\")\n",
    "test = test.replece(\"]\", \"\")"
   ]
  },
  {
   "cell_type": "code",
   "execution_count": 85,
   "id": "0d6924c3-3f44-40b5-b2cc-98fcea59382a",
   "metadata": {},
   "outputs": [],
   "source": [
    "test = f[1][1].replace(\"[\", \"\")\n",
    "test = test.replace(\"]\", \"\")"
   ]
  },
  {
   "cell_type": "code",
   "execution_count": 86,
   "id": "a6608e6a-532d-4e80-b494-1287a94126a0",
   "metadata": {},
   "outputs": [
    {
     "data": {
      "text/plain": [
       "'1'"
      ]
     },
     "execution_count": 86,
     "metadata": {},
     "output_type": "execute_result"
    }
   ],
   "source": [
    "test"
   ]
  },
  {
   "cell_type": "code",
   "execution_count": 87,
   "id": "64365fb4-1eac-4464-a41c-fae4282e6f4e",
   "metadata": {},
   "outputs": [
    {
     "data": {
      "text/plain": [
       "1"
      ]
     },
     "execution_count": 87,
     "metadata": {},
     "output_type": "execute_result"
    }
   ],
   "source": [
    "int(test)"
   ]
  },
  {
   "cell_type": "code",
   "execution_count": 88,
   "id": "ea541671-fd2b-497f-9581-30ea68420f3e",
   "metadata": {},
   "outputs": [
    {
     "ename": "PermissionError",
     "evalue": "[Errno 13] Permission denied: 'morioka_temperature_.csv'",
     "output_type": "error",
     "traceback": [
      "\u001b[1;31m---------------------------------------------------------------------------\u001b[0m",
      "\u001b[1;31mPermissionError\u001b[0m                           Traceback (most recent call last)",
      "\u001b[1;32m<ipython-input-88-afe361c8dc18>\u001b[0m in \u001b[0;36m<module>\u001b[1;34m\u001b[0m\n\u001b[1;32m----> 1\u001b[1;33m \u001b[1;32mwith\u001b[0m \u001b[0mopen\u001b[0m\u001b[1;33m(\u001b[0m\u001b[1;34m'morioka_temperature_.csv'\u001b[0m\u001b[1;33m,\u001b[0m \u001b[1;34m'a'\u001b[0m\u001b[1;33m)\u001b[0m \u001b[1;32mas\u001b[0m \u001b[0ma\u001b[0m\u001b[1;33m:\u001b[0m\u001b[1;33m\u001b[0m\u001b[1;33m\u001b[0m\u001b[0m\n\u001b[0m\u001b[0;32m      2\u001b[0m     \u001b[0mnew_df\u001b[0m \u001b[1;33m=\u001b[0m \u001b[0mcsv\u001b[0m\u001b[1;33m.\u001b[0m\u001b[0mwriter\u001b[0m\u001b[1;33m(\u001b[0m\u001b[0ma\u001b[0m\u001b[1;33m)\u001b[0m\u001b[1;33m\u001b[0m\u001b[1;33m\u001b[0m\u001b[0m\n\u001b[0;32m      3\u001b[0m     \u001b[0mnew_df\u001b[0m\u001b[1;33m.\u001b[0m\u001b[0mwriterow\u001b[0m\u001b[1;33m(\u001b[0m\u001b[1;33m[\u001b[0m\u001b[1;34m\"Date\"\u001b[0m\u001b[1;33m,\u001b[0m \u001b[1;34m\"Temparature\"\u001b[0m\u001b[1;33m]\u001b[0m\u001b[1;33m)\u001b[0m\u001b[1;33m\u001b[0m\u001b[1;33m\u001b[0m\u001b[0m\n\u001b[0;32m      4\u001b[0m     \u001b[1;32mfor\u001b[0m \u001b[0mi\u001b[0m \u001b[1;32min\u001b[0m \u001b[0mrange\u001b[0m\u001b[1;33m(\u001b[0m\u001b[1;36m1\u001b[0m\u001b[1;33m,\u001b[0m \u001b[1;36m121\u001b[0m\u001b[1;33m)\u001b[0m\u001b[1;33m:\u001b[0m\u001b[1;33m\u001b[0m\u001b[1;33m\u001b[0m\u001b[0m\n\u001b[0;32m      5\u001b[0m         \u001b[0mtest\u001b[0m \u001b[1;33m=\u001b[0m \u001b[0mf\u001b[0m\u001b[1;33m[\u001b[0m\u001b[0mi\u001b[0m\u001b[1;33m]\u001b[0m\u001b[1;33m[\u001b[0m\u001b[1;36m1\u001b[0m\u001b[1;33m]\u001b[0m\u001b[1;33m.\u001b[0m\u001b[0mreplace\u001b[0m\u001b[1;33m(\u001b[0m\u001b[1;34m\"[\"\u001b[0m\u001b[1;33m,\u001b[0m \u001b[1;34m\"\"\u001b[0m\u001b[1;33m)\u001b[0m\u001b[1;33m\u001b[0m\u001b[1;33m\u001b[0m\u001b[0m\n",
      "\u001b[1;31mPermissionError\u001b[0m: [Errno 13] Permission denied: 'morioka_temperature_.csv'"
     ]
    }
   ],
   "source": [
    "with open('morioka_temperature_.csv', 'a') as a:\n",
    "    new_df = csv.writer(a)\n",
    "    new_df.writerow([\"Date\", \"Temparature\"])\n",
    "    for i in range(1, 121):\n",
    "        test = f[i][1].replace(\"[\", \"\")\n",
    "        new_day = test.replace(\"]\", \"\")\n",
    "        test = f[i][2].replace(\"[\", \"\")\n",
    "        new_temp = test.replace(\"]\", \"\")\n",
    "        new_df.writerow([int(new_day), float(new_temp)])"
   ]
  },
  {
   "cell_type": "code",
   "execution_count": 89,
   "id": "a48ccba1-e6de-4c0d-a271-4f52575b46b1",
   "metadata": {},
   "outputs": [
    {
     "ename": "ValueError",
     "evalue": "could not convert string to float: '15.4 )'",
     "output_type": "error",
     "traceback": [
      "\u001b[1;31m---------------------------------------------------------------------------\u001b[0m",
      "\u001b[1;31mValueError\u001b[0m                                Traceback (most recent call last)",
      "\u001b[1;32m<ipython-input-89-afe361c8dc18>\u001b[0m in \u001b[0;36m<module>\u001b[1;34m\u001b[0m\n\u001b[0;32m      7\u001b[0m         \u001b[0mtest\u001b[0m \u001b[1;33m=\u001b[0m \u001b[0mf\u001b[0m\u001b[1;33m[\u001b[0m\u001b[0mi\u001b[0m\u001b[1;33m]\u001b[0m\u001b[1;33m[\u001b[0m\u001b[1;36m2\u001b[0m\u001b[1;33m]\u001b[0m\u001b[1;33m.\u001b[0m\u001b[0mreplace\u001b[0m\u001b[1;33m(\u001b[0m\u001b[1;34m\"[\"\u001b[0m\u001b[1;33m,\u001b[0m \u001b[1;34m\"\"\u001b[0m\u001b[1;33m)\u001b[0m\u001b[1;33m\u001b[0m\u001b[1;33m\u001b[0m\u001b[0m\n\u001b[0;32m      8\u001b[0m         \u001b[0mnew_temp\u001b[0m \u001b[1;33m=\u001b[0m \u001b[0mtest\u001b[0m\u001b[1;33m.\u001b[0m\u001b[0mreplace\u001b[0m\u001b[1;33m(\u001b[0m\u001b[1;34m\"]\"\u001b[0m\u001b[1;33m,\u001b[0m \u001b[1;34m\"\"\u001b[0m\u001b[1;33m)\u001b[0m\u001b[1;33m\u001b[0m\u001b[1;33m\u001b[0m\u001b[0m\n\u001b[1;32m----> 9\u001b[1;33m         \u001b[0mnew_df\u001b[0m\u001b[1;33m.\u001b[0m\u001b[0mwriterow\u001b[0m\u001b[1;33m(\u001b[0m\u001b[1;33m[\u001b[0m\u001b[0mint\u001b[0m\u001b[1;33m(\u001b[0m\u001b[0mnew_day\u001b[0m\u001b[1;33m)\u001b[0m\u001b[1;33m,\u001b[0m \u001b[0mfloat\u001b[0m\u001b[1;33m(\u001b[0m\u001b[0mnew_temp\u001b[0m\u001b[1;33m)\u001b[0m\u001b[1;33m]\u001b[0m\u001b[1;33m)\u001b[0m\u001b[1;33m\u001b[0m\u001b[1;33m\u001b[0m\u001b[0m\n\u001b[0m",
      "\u001b[1;31mValueError\u001b[0m: could not convert string to float: '15.4 )'"
     ]
    }
   ],
   "source": [
    "with open('morioka_temperature_.csv', 'a') as a:\n",
    "    new_df = csv.writer(a)\n",
    "    new_df.writerow([\"Date\", \"Temparature\"])\n",
    "    for i in range(1, 121):\n",
    "        test = f[i][1].replace(\"[\", \"\")\n",
    "        new_day = test.replace(\"]\", \"\")\n",
    "        test = f[i][2].replace(\"[\", \"\")\n",
    "        new_temp = test.replace(\"]\", \"\")\n",
    "        new_df.writerow([int(new_day), float(new_temp)])"
   ]
  },
  {
   "cell_type": "code",
   "execution_count": 90,
   "id": "80407201-c9ae-4b22-9e03-faa014b60f54",
   "metadata": {},
   "outputs": [
    {
     "ename": "ValueError",
     "evalue": "could not convert string to float: '15.4 )'",
     "output_type": "error",
     "traceback": [
      "\u001b[1;31m---------------------------------------------------------------------------\u001b[0m",
      "\u001b[1;31mValueError\u001b[0m                                Traceback (most recent call last)",
      "\u001b[1;32m<ipython-input-90-84007e04b10d>\u001b[0m in \u001b[0;36m<module>\u001b[1;34m\u001b[0m\n\u001b[0;32m      7\u001b[0m         \u001b[0mtest\u001b[0m \u001b[1;33m=\u001b[0m \u001b[0mf\u001b[0m\u001b[1;33m[\u001b[0m\u001b[0mi\u001b[0m\u001b[1;33m]\u001b[0m\u001b[1;33m[\u001b[0m\u001b[1;36m2\u001b[0m\u001b[1;33m]\u001b[0m\u001b[1;33m.\u001b[0m\u001b[0mreplace\u001b[0m\u001b[1;33m(\u001b[0m\u001b[1;34m\"[\"\u001b[0m\u001b[1;33m,\u001b[0m \u001b[1;34m\"\"\u001b[0m\u001b[1;33m)\u001b[0m\u001b[1;33m\u001b[0m\u001b[1;33m\u001b[0m\u001b[0m\n\u001b[0;32m      8\u001b[0m         \u001b[0mnew_temp\u001b[0m \u001b[1;33m=\u001b[0m \u001b[0mtest\u001b[0m\u001b[1;33m.\u001b[0m\u001b[0mreplace\u001b[0m\u001b[1;33m(\u001b[0m\u001b[1;34m\"]\"\u001b[0m\u001b[1;33m,\u001b[0m \u001b[1;34m\"\"\u001b[0m\u001b[1;33m)\u001b[0m\u001b[1;33m\u001b[0m\u001b[1;33m\u001b[0m\u001b[0m\n\u001b[1;32m----> 9\u001b[1;33m         \u001b[0mnew_df\u001b[0m\u001b[1;33m.\u001b[0m\u001b[0mwriterow\u001b[0m\u001b[1;33m(\u001b[0m\u001b[1;33m[\u001b[0m\u001b[0mint\u001b[0m\u001b[1;33m(\u001b[0m\u001b[0mnew_day\u001b[0m\u001b[1;33m)\u001b[0m\u001b[1;33m,\u001b[0m \u001b[0mfloat\u001b[0m\u001b[1;33m(\u001b[0m\u001b[0mnew_temp\u001b[0m\u001b[1;33m)\u001b[0m\u001b[1;33m]\u001b[0m\u001b[1;33m)\u001b[0m\u001b[1;33m\u001b[0m\u001b[1;33m\u001b[0m\u001b[0m\n\u001b[0m",
      "\u001b[1;31mValueError\u001b[0m: could not convert string to float: '15.4 )'"
     ]
    }
   ],
   "source": [
    "with open('morioka_temperature_.csv', 'a', newline='') as a:\n",
    "    new_df = csv.writer(a)\n",
    "    new_df.writerow([\"Date\", \"Temparature\"])\n",
    "    for i in range(1, 121):\n",
    "        test = f[i][1].replace(\"[\", \"\")\n",
    "        new_day = test.replace(\"]\", \"\")\n",
    "        test = f[i][2].replace(\"[\", \"\")\n",
    "        new_temp = test.replace(\"]\", \"\")\n",
    "        new_df.writerow([int(new_day), float(new_temp)])"
   ]
  },
  {
   "cell_type": "code",
   "execution_count": 91,
   "id": "5907c85f-7b78-4618-94fe-770f5473151c",
   "metadata": {},
   "outputs": [
    {
     "ename": "ValueError",
     "evalue": "could not convert string to float: '15.4 )'",
     "output_type": "error",
     "traceback": [
      "\u001b[1;31m---------------------------------------------------------------------------\u001b[0m",
      "\u001b[1;31mValueError\u001b[0m                                Traceback (most recent call last)",
      "\u001b[1;32m<ipython-input-91-84007e04b10d>\u001b[0m in \u001b[0;36m<module>\u001b[1;34m\u001b[0m\n\u001b[0;32m      7\u001b[0m         \u001b[0mtest\u001b[0m \u001b[1;33m=\u001b[0m \u001b[0mf\u001b[0m\u001b[1;33m[\u001b[0m\u001b[0mi\u001b[0m\u001b[1;33m]\u001b[0m\u001b[1;33m[\u001b[0m\u001b[1;36m2\u001b[0m\u001b[1;33m]\u001b[0m\u001b[1;33m.\u001b[0m\u001b[0mreplace\u001b[0m\u001b[1;33m(\u001b[0m\u001b[1;34m\"[\"\u001b[0m\u001b[1;33m,\u001b[0m \u001b[1;34m\"\"\u001b[0m\u001b[1;33m)\u001b[0m\u001b[1;33m\u001b[0m\u001b[1;33m\u001b[0m\u001b[0m\n\u001b[0;32m      8\u001b[0m         \u001b[0mnew_temp\u001b[0m \u001b[1;33m=\u001b[0m \u001b[0mtest\u001b[0m\u001b[1;33m.\u001b[0m\u001b[0mreplace\u001b[0m\u001b[1;33m(\u001b[0m\u001b[1;34m\"]\"\u001b[0m\u001b[1;33m,\u001b[0m \u001b[1;34m\"\"\u001b[0m\u001b[1;33m)\u001b[0m\u001b[1;33m\u001b[0m\u001b[1;33m\u001b[0m\u001b[0m\n\u001b[1;32m----> 9\u001b[1;33m         \u001b[0mnew_df\u001b[0m\u001b[1;33m.\u001b[0m\u001b[0mwriterow\u001b[0m\u001b[1;33m(\u001b[0m\u001b[1;33m[\u001b[0m\u001b[0mint\u001b[0m\u001b[1;33m(\u001b[0m\u001b[0mnew_day\u001b[0m\u001b[1;33m)\u001b[0m\u001b[1;33m,\u001b[0m \u001b[0mfloat\u001b[0m\u001b[1;33m(\u001b[0m\u001b[0mnew_temp\u001b[0m\u001b[1;33m)\u001b[0m\u001b[1;33m]\u001b[0m\u001b[1;33m)\u001b[0m\u001b[1;33m\u001b[0m\u001b[1;33m\u001b[0m\u001b[0m\n\u001b[0m",
      "\u001b[1;31mValueError\u001b[0m: could not convert string to float: '15.4 )'"
     ]
    }
   ],
   "source": [
    "with open('morioka_temperature_.csv', 'a', newline='') as a:\n",
    "    new_df = csv.writer(a)\n",
    "    new_df.writerow([\"Date\", \"Temparature\"])\n",
    "    for i in range(1, 121):\n",
    "        test = f[i][1].replace(\"[\", \"\")\n",
    "        new_day = test.replace(\"]\", \"\")\n",
    "        test = f[i][2].replace(\"[\", \"\")\n",
    "        new_temp = test.replace(\"]\", \"\")\n",
    "        new_df.writerow([int(new_day), float(new_temp)])"
   ]
  },
  {
   "cell_type": "code",
   "execution_count": 92,
   "id": "dc18b7c8-1e3a-4a3a-acde-2abea3c22253",
   "metadata": {},
   "outputs": [],
   "source": [
    "f = open('morioka_temperature.csv', 'r')"
   ]
  },
  {
   "cell_type": "code",
   "execution_count": 93,
   "id": "b6a73b25-7ac0-43b2-bf66-382b77b59ea6",
   "metadata": {},
   "outputs": [],
   "source": [
    "f = csv.reader(f)\n",
    "f = [row for row in f]"
   ]
  },
  {
   "cell_type": "code",
   "execution_count": 94,
   "id": "4b67468b-fc95-487b-8832-f89da896d7f3",
   "metadata": {},
   "outputs": [],
   "source": [
    "with open('morioka_temperature_.csv', 'a', newline='') as a:\n",
    "    new_df = csv.writer(a)\n",
    "    new_df.writerow([\"Date\", \"Temparature\"])\n",
    "    for i in range(1, 121):\n",
    "        test = f[i][1].replace(\"[\", \"\")\n",
    "        new_day = test.replace(\"]\", \"\")\n",
    "        test = f[i][2].replace(\"[\", \"\")\n",
    "        new_temp = test.replace(\"]\", \"\")\n",
    "        new_df.writerow([int(new_day), float(new_temp)])"
   ]
  },
  {
   "cell_type": "code",
   "execution_count": null,
   "id": "f0e3a8dc-a6cf-4d98-af43-6272bf1691f7",
   "metadata": {},
   "outputs": [],
   "source": []
  }
 ],
 "metadata": {
  "kernelspec": {
   "display_name": "Python 3",
   "language": "python",
   "name": "python3"
  },
  "language_info": {
   "codemirror_mode": {
    "name": "ipython",
    "version": 3
   },
   "file_extension": ".py",
   "mimetype": "text/x-python",
   "name": "python",
   "nbconvert_exporter": "python",
   "pygments_lexer": "ipython3",
   "version": "3.8.8"
  }
 },
 "nbformat": 4,
 "nbformat_minor": 5
}
